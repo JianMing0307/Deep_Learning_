{
 "cells": [
  {
   "cell_type": "code",
   "execution_count": 1,
   "metadata": {},
   "outputs": [],
   "source": [
    "import numpy as np \n",
    "import pandas as pd \n",
    "import matplotlib.pyplot as plt \n",
    "import tensorflow as tf \n",
    "from tensorflow import keras"
   ]
  },
  {
   "cell_type": "markdown",
   "metadata": {},
   "source": [
    "# Weight initialization 權重初始化"
   ]
  },
  {
   "cell_type": "code",
   "execution_count": 2,
   "metadata": {},
   "outputs": [
    {
     "data": {
      "text/plain": [
       "['Constant',\n",
       " 'GlorotNormal',\n",
       " 'GlorotUniform',\n",
       " 'HeNormal',\n",
       " 'HeUniform',\n",
       " 'Identity',\n",
       " 'Initializer',\n",
       " 'LecunNormal',\n",
       " 'LecunUniform',\n",
       " 'Ones',\n",
       " 'Orthogonal',\n",
       " 'RandomNormal',\n",
       " 'RandomUniform',\n",
       " 'TruncatedNormal',\n",
       " 'VarianceScaling',\n",
       " 'Zeros',\n",
       " 'constant',\n",
       " 'deserialize',\n",
       " 'get',\n",
       " 'glorot_normal',\n",
       " 'glorot_uniform',\n",
       " 'he_normal',\n",
       " 'he_uniform',\n",
       " 'identity',\n",
       " 'lecun_normal',\n",
       " 'lecun_uniform',\n",
       " 'ones',\n",
       " 'orthogonal',\n",
       " 'random_normal',\n",
       " 'random_uniform',\n",
       " 'serialize',\n",
       " 'truncated_normal',\n",
       " 'variance_scaling',\n",
       " 'zeros']"
      ]
     },
     "execution_count": 2,
     "metadata": {},
     "output_type": "execute_result"
    }
   ],
   "source": [
    "[name for name in dir(keras.initializers) if not name.startswith('_')]"
   ]
  },
  {
   "cell_type": "code",
   "execution_count": 3,
   "metadata": {},
   "outputs": [
    {
     "data": {
      "text/plain": [
       "<keras.src.layers.core.dense.Dense at 0x1fc34be1e50>"
      ]
     },
     "execution_count": 3,
     "metadata": {},
     "output_type": "execute_result"
    }
   ],
   "source": [
    "keras.layers.Dense(units=10, \n",
    "                   activation='relu', \n",
    "                   kernel_initializer='he_normal')#指定初始化"
   ]
  },
  {
   "cell_type": "code",
   "execution_count": 4,
   "metadata": {},
   "outputs": [
    {
     "data": {
      "text/plain": [
       "<keras.src.layers.core.dense.Dense at 0x1fc34c0bca0>"
      ]
     },
     "execution_count": 4,
     "metadata": {},
     "output_type": "execute_result"
    }
   ],
   "source": [
    "# Method 1 (keras.activations)\n",
    "keras.layers.Dense (10, \n",
    "                    activation='selu',\n",
    "                    kernel_initializer='lecun_normal')"
   ]
  },
  {
   "cell_type": "code",
   "execution_count": 5,
   "metadata": {},
   "outputs": [
    {
     "data": {
      "text/plain": [
       "<keras.src.layers.activation.leaky_relu.LeakyReLU at 0x1fc34c0bb20>"
      ]
     },
     "execution_count": 5,
     "metadata": {},
     "output_type": "execute_result"
    }
   ],
   "source": [
    "# Method 2 (keras.layers)\n",
    "keras.layers.Dense (300, \n",
    "                    kernel_initializer='he_normal')\n",
    "keras.layers.LeakyReLU(alpha=0.3)"
   ]
  },
  {
   "cell_type": "code",
   "execution_count": 6,
   "metadata": {},
   "outputs": [
    {
     "data": {
      "text/plain": [
       "<keras.src.layers.core.activation.Activation at 0x1fc34cb3040>"
      ]
     },
     "execution_count": 6,
     "metadata": {},
     "output_type": "execute_result"
    }
   ],
   "source": [
    "# Method3 (keras.layers. Activation)\n",
    "keras.layers.Dense(300, \n",
    "                   kernel_initializer='he_normal')\n",
    "keras. layers.Activation('relu')"
   ]
  },
  {
   "cell_type": "markdown",
   "metadata": {},
   "source": [
    "# 綜合練習"
   ]
  },
  {
   "cell_type": "code",
   "execution_count": 7,
   "metadata": {},
   "outputs": [],
   "source": [
    "# Ex1\n",
    "from tensorflow.keras.datasets import fashion_mnist\n",
    "\n",
    "# Load data\n",
    "(x_train_set, y_train_set), (x_test, y_test) = fashion_mnist. load_data()\n",
    "\n",
    "# Split data\n",
    "from sklearn.model_selection import train_test_split \n",
    "x_train, x_valid, y_train, y_valid = train_test_split(x_train_set, \n",
    "                                                      y_train_set, random_state=1)\n",
    "# Preprocessing\n",
    "x_train = x_train / 255\n",
    "x_valid = x_valid / 255\n",
    "x_test = x_test /255"
   ]
  },
  {
   "cell_type": "code",
   "execution_count": 8,
   "metadata": {},
   "outputs": [],
   "source": [
    "tf.keras.backend.clear_session ()\n",
    "np. random. seed (1)\n",
    "tf.random.set_seed(1)"
   ]
  },
  {
   "cell_type": "code",
   "execution_count": 9,
   "metadata": {},
   "outputs": [],
   "source": [
    "model = keras.models.Sequential([\n",
    "    keras. layers. Flatten (input_shape= [28, 28]), \n",
    "    \n",
    "    keras. layers. Dense (300, activation='relu', kernel_initializer='he_normal'),\n",
    "\n",
    "    keras. layers. Dense (200, kernel_initializer='he_normal'),\n",
    "    keras. layers. LeakyReLU(alpha=0.01),\n",
    "    \n",
    "    keras. layers. Dense (100, kernel_initializer='he_normal'),\n",
    "    keras. layers. PReLU(),\n",
    "    \n",
    "    keras. layers. Dense (10, activation='softmax')\n",
    "])"
   ]
  },
  {
   "cell_type": "code",
   "execution_count": 10,
   "metadata": {},
   "outputs": [
    {
     "name": "stdout",
     "output_type": "stream",
     "text": [
      "Model: \"sequential\"\n",
      "_________________________________________________________________\n",
      " Layer (type)                Output Shape              Param #   \n",
      "=================================================================\n",
      " flatten (Flatten)           (None, 784)               0         \n",
      "                                                                 \n",
      " dense (Dense)               (None, 300)               235500    \n",
      "                                                                 \n",
      " dense_1 (Dense)             (None, 200)               60200     \n",
      "                                                                 \n",
      " leaky_re_lu (LeakyReLU)     (None, 200)               0         \n",
      "                                                                 \n",
      " dense_2 (Dense)             (None, 100)               20100     \n",
      "                                                                 \n",
      " p_re_lu (PReLU)             (None, 100)               100       \n",
      "                                                                 \n",
      " dense_3 (Dense)             (None, 10)                1010      \n",
      "                                                                 \n",
      "=================================================================\n",
      "Total params: 316910 (1.21 MB)\n",
      "Trainable params: 316910 (1.21 MB)\n",
      "Non-trainable params: 0 (0.00 Byte)\n",
      "_________________________________________________________________\n"
     ]
    }
   ],
   "source": [
    "model.summary()"
   ]
  },
  {
   "cell_type": "code",
   "execution_count": 11,
   "metadata": {},
   "outputs": [],
   "source": [
    "model. compile (loss='sparse_categorical_crossentropy',\n",
    "                optimizer='sgd', \n",
    "                metrics=['accuracy'])"
   ]
  },
  {
   "cell_type": "code",
   "execution_count": 12,
   "metadata": {},
   "outputs": [
    {
     "name": "stdout",
     "output_type": "stream",
     "text": [
      "Epoch 1/2\n",
      "1407/1407 [==============================] - 4s 3ms/step - loss: 0.6831 - accuracy: 0.7690 - val_loss: 0.5771 - val_accuracy: 0.7999\n",
      "Epoch 2/2\n",
      "1407/1407 [==============================] - 4s 3ms/step - loss: 0.4711 - accuracy: 0.8358 - val_loss: 0.4661 - val_accuracy: 0.8345\n"
     ]
    }
   ],
   "source": [
    "train = model.fit(x_train, y_train, epochs=2,\n",
    "                  validation_data=(x_valid, y_valid))"
   ]
  },
  {
   "cell_type": "markdown",
   "metadata": {},
   "source": [
    "# 加入BatchNormalization"
   ]
  },
  {
   "cell_type": "code",
   "execution_count": 13,
   "metadata": {},
   "outputs": [
    {
     "data": {
      "text/plain": [
       "<keras.src.layers.normalization.batch_normalization.BatchNormalization at 0x1fc3a9fdb80>"
      ]
     },
     "execution_count": 13,
     "metadata": {},
     "output_type": "execute_result"
    }
   ],
   "source": [
    "# BatchNormalization\n",
    "\n",
    "#Method 1: After activation function\n",
    "keras.layers.Dense(300, activation='relu')\n",
    "keras.layers.BatchNormalization()"
   ]
  },
  {
   "cell_type": "code",
   "execution_count": 14,
   "metadata": {},
   "outputs": [],
   "source": [
    "#Ex2(有加入批次正規畫避免梯度消逝或爆炸)\n",
    "model = keras.models.Sequential([\n",
    "    keras.layers.Flatten (input_shape= [28, 28]), \n",
    "    keras.layers.BatchNormalization (),# 就可以不用事先做Normalization\n",
    "\n",
    "    keras.layers.Dense (200, activation='relu', kernel_initializer='he_normal'),\n",
    "    keras.layers.BatchNormalization (),\n",
    "\n",
    "    keras.layers.Dense (100, activation='relu', kernel_initializer='he_normal'), \n",
    "    keras.layers.BatchNormalization(), \n",
    "\n",
    "    keras.layers.Dense(10, activation='softmax')\n",
    "])"
   ]
  },
  {
   "cell_type": "code",
   "execution_count": 15,
   "metadata": {},
   "outputs": [
    {
     "name": "stdout",
     "output_type": "stream",
     "text": [
      "Model: \"sequential_1\"\n",
      "_________________________________________________________________\n",
      " Layer (type)                Output Shape              Param #   \n",
      "=================================================================\n",
      " flatten_1 (Flatten)         (None, 784)               0         \n",
      "                                                                 \n",
      " batch_normalization_1 (Bat  (None, 784)               3136      \n",
      " chNormalization)                                                \n",
      "                                                                 \n",
      " dense_5 (Dense)             (None, 200)               157000    \n",
      "                                                                 \n",
      " batch_normalization_2 (Bat  (None, 200)               800       \n",
      " chNormalization)                                                \n",
      "                                                                 \n",
      " dense_6 (Dense)             (None, 100)               20100     \n",
      "                                                                 \n",
      " batch_normalization_3 (Bat  (None, 100)               400       \n",
      " chNormalization)                                                \n",
      "                                                                 \n",
      " dense_7 (Dense)             (None, 10)                1010      \n",
      "                                                                 \n",
      "=================================================================\n",
      "Total params: 182446 (712.68 KB)\n",
      "Trainable params: 180278 (704.21 KB)\n",
      "Non-trainable params: 2168 (8.47 KB)\n",
      "_________________________________________________________________\n"
     ]
    }
   ],
   "source": [
    "model.summary()"
   ]
  },
  {
   "cell_type": "code",
   "execution_count": 16,
   "metadata": {},
   "outputs": [],
   "source": [
    "model.compile(loss='sparse_categorical_crossentropy',\n",
    "               optimizer='sgd', \n",
    "               metrics= ['accuracy'])"
   ]
  },
  {
   "cell_type": "code",
   "execution_count": 17,
   "metadata": {},
   "outputs": [
    {
     "name": "stdout",
     "output_type": "stream",
     "text": [
      "Epoch 1/2\n",
      "1407/1407 [==============================] - 4s 2ms/step - loss: 0.5789 - accuracy: 0.7995 - val_loss: 0.4192 - val_accuracy: 0.8513\n",
      "Epoch 2/2\n",
      "1407/1407 [==============================] - 3s 2ms/step - loss: 0.4275 - accuracy: 0.8475 - val_loss: 0.3785 - val_accuracy: 0.8659\n"
     ]
    }
   ],
   "source": [
    "train = model.fit(x_train, y_train, epochs=2,\n",
    "                   validation_data=(x_valid, y_valid))"
   ]
  }
 ],
 "metadata": {
  "kernelspec": {
   "display_name": "base",
   "language": "python",
   "name": "python3"
  },
  "language_info": {
   "codemirror_mode": {
    "name": "ipython",
    "version": 3
   },
   "file_extension": ".py",
   "mimetype": "text/x-python",
   "name": "python",
   "nbconvert_exporter": "python",
   "pygments_lexer": "ipython3",
   "version": "3.9.13"
  }
 },
 "nbformat": 4,
 "nbformat_minor": 2
}
