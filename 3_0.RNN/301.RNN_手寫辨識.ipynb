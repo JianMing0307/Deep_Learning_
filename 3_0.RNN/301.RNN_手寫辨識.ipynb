{
 "cells": [
  {
   "cell_type": "code",
   "execution_count": null,
   "metadata": {},
   "outputs": [],
   "source": [
    "#!pip install tensorflow"
   ]
  },
  {
   "cell_type": "code",
   "execution_count": 1,
   "metadata": {},
   "outputs": [],
   "source": [
    "import numpy as np\n",
    "import tensorflow as tf\n",
    "from tensorflow.keras.datasets import mnist\n",
    "from tensorflow.keras.utils import to_categorical\n",
    "from tensorflow.keras.models import Sequential\n",
    "from tensorflow.keras.layers import SimpleRNN, Activation, Dense\n",
    "from tensorflow.keras.optimizers import Adam\n"
   ]
  },
  {
   "cell_type": "code",
   "execution_count": 2,
   "metadata": {},
   "outputs": [],
   "source": [
    "# 載入 MNIST 手寫辨識資料\n",
    "(X_train, y_train), (X_test, y_test_org) = mnist.load_data()\n",
    "\n",
    "X_train = X_train.reshape(-1, 28, 28) / 255. #----->轉成3維並縮放      \n",
    "X_test = X_test.reshape(-1, 28, 28) / 255.\n"
   ]
  },
  {
   "cell_type": "markdown",
   "metadata": {},
   "source": [
    "# (Simple RNN建模)\n",
    "#### 單一輸入，1層"
   ]
  },
  {
   "cell_type": "code",
   "execution_count": 3,
   "metadata": {},
   "outputs": [],
   "source": [
    "model = Sequential() #----->必須是 3 dimension\n",
    "model.add(SimpleRNN(units=256, input_shape=(28, 28))) #----->加 RNN 隱藏層(hidden layer)\n",
    "model.add(Dense(units=10, activation='softmax')) #----->加 output 層\n"
   ]
  },
  {
   "cell_type": "code",
   "execution_count": 4,
   "metadata": {},
   "outputs": [
    {
     "name": "stdout",
     "output_type": "stream",
     "text": [
      "Model: \"sequential\"\n",
      "_________________________________________________________________\n",
      " Layer (type)                Output Shape              Param #   \n"
     ]
    },
    {
     "name": "stdout",
     "output_type": "stream",
     "text": [
      "=================================================================\n",
      " simple_rnn (SimpleRNN)      (None, 256)               72960     \n",
      "                                                                 \n",
      " dense (Dense)               (None, 10)                2570      \n",
      "                                                                 \n",
      "=================================================================\n",
      "Total params: 75530 (295.04 KB)\n",
      "Trainable params: 75530 (295.04 KB)\n",
      "Non-trainable params: 0 (0.00 Byte)\n",
      "_________________________________________________________________\n",
      "None\n"
     ]
    }
   ],
   "source": [
    "# 編譯: 選擇損失函數、優化方法及成效衡量方式\n",
    "LR = 0.001 #----->Learning Rate\n",
    "adam = Adam(LR)\n",
    "model.compile(loss='categorical_crossentropy', optimizer='adam', metrics=['accuracy']) \n",
    "\n",
    "print(model.summary())\n"
   ]
  },
  {
   "cell_type": "code",
   "execution_count": 5,
   "metadata": {},
   "outputs": [],
   "source": [
    "# 將 label 進行 one-hot encoding，例如數字 7 經過 One-hot encoding 轉換後是 0000001000，即第7個值為 1\n",
    "y_TrainOneHot = to_categorical(y_train) \n",
    "y_TestOneHot = to_categorical(y_test_org) \n",
    "\n",
    "# 將 training 的 input 資料轉為2維\n",
    "X_train_2D = X_train.reshape(60000, 28,28)\n",
    "X_test_2D = X_test.reshape(10000, 28,28)  \n",
    "\n",
    "x_Train_norm = X_train_2D/255\n",
    "x_Test_norm = X_test_2D/255\n"
   ]
  },
  {
   "cell_type": "code",
   "execution_count": 6,
   "metadata": {},
   "outputs": [
    {
     "name": "stdout",
     "output_type": "stream",
     "text": [
      "Epoch 1/10\n",
      "60/60 - 7s - loss: 2.0521 - accuracy: 0.2671 - val_loss: 2.6472 - val_accuracy: 0.2048 - 7s/epoch - 119ms/step\n",
      "Epoch 2/10\n",
      "60/60 - 5s - loss: 1.9918 - accuracy: 0.3098 - val_loss: 1.4486 - val_accuracy: 0.5170 - 5s/epoch - 76ms/step\n",
      "Epoch 3/10\n",
      "60/60 - 5s - loss: 1.4221 - accuracy: 0.5298 - val_loss: 1.3019 - val_accuracy: 0.5690 - 5s/epoch - 77ms/step\n",
      "Epoch 4/10\n",
      "60/60 - 5s - loss: 1.2503 - accuracy: 0.5962 - val_loss: 1.0475 - val_accuracy: 0.6757 - 5s/epoch - 77ms/step\n",
      "Epoch 5/10\n",
      "60/60 - 5s - loss: 1.1135 - accuracy: 0.6434 - val_loss: 0.9677 - val_accuracy: 0.6931 - 5s/epoch - 75ms/step\n",
      "Epoch 6/10\n",
      "60/60 - 5s - loss: 1.0006 - accuracy: 0.6825 - val_loss: 0.8895 - val_accuracy: 0.7186 - 5s/epoch - 78ms/step\n",
      "Epoch 7/10\n",
      "60/60 - 5s - loss: 1.0994 - accuracy: 0.6486 - val_loss: 0.9101 - val_accuracy: 0.7192 - 5s/epoch - 79ms/step\n",
      "Epoch 8/10\n",
      "60/60 - 5s - loss: 0.8405 - accuracy: 0.7344 - val_loss: 0.9673 - val_accuracy: 0.6794 - 5s/epoch - 83ms/step\n",
      "Epoch 9/10\n",
      "60/60 - 5s - loss: 0.7729 - accuracy: 0.7572 - val_loss: 0.6012 - val_accuracy: 0.8246 - 5s/epoch - 78ms/step\n",
      "Epoch 10/10\n",
      "60/60 - 5s - loss: 0.6419 - accuracy: 0.7964 - val_loss: 0.6079 - val_accuracy: 0.8018 - 5s/epoch - 79ms/step\n",
      "313/313 [==============================] - 2s 4ms/step - loss: 0.6285 - accuracy: 0.7949\n",
      "test loss: 0.6284801959991455  test accuracy: 0.7949000000953674\n",
      "1/1 [==============================] - 0s 166ms/step\n",
      "actual : [7 2 1 0 4 1 4 9 5 9 0 6 9 0 1 5 9 7 3 4]\n",
      "predict: [7 2 1 0 4 1 4 9 5 9 5 6 9 0 1 5 9 7 8 4]\n"
     ]
    }
   ],
   "source": [
    "\n",
    "# 進行訓練, 訓練過程會存在 train_history 變數中\n",
    "train_history = model.fit(x=x_Train_norm, y=y_TrainOneHot, validation_split=0.2, \n",
    "                          batch_size=800, epochs=10, verbose=2)  \n"
   ]
  },
  {
   "cell_type": "code",
   "execution_count": 7,
   "metadata": {},
   "outputs": [
    {
     "name": "stdout",
     "output_type": "stream",
     "text": [
      "313/313 [==============================] - 1s 5ms/step - loss: 0.6285 - accuracy: 0.7949\n",
      "test loss: 0.6284801959991455  test accuracy: 0.7949000000953674\n",
      "1/1 [==============================] - 0s 19ms/step\n",
      "actual : [7 2 1 0 4 1 4 9 5 9 0 6 9 0 1 5 9 7 3 4]\n",
      "predict: [7 2 1 0 4 1 4 9 5 9 5 6 9 0 1 5 9 7 8 4]\n"
     ]
    }
   ],
   "source": [
    "\n",
    "# 顯示訓練成果(分數)\n",
    "loss, accuracy = model.evaluate(x_Test_norm, y_TestOneHot)  \n",
    "print(f\"test loss: {loss}  test accuracy: {accuracy}\")\n",
    "        \n",
    "# 預測(prediction)\n",
    "predictions = np.argmax(model.predict(x_Test_norm[0:20]), axis=-1)\n",
    "# get prediction result\n",
    "print('actual :', y_test_org[0:20])\n",
    "print('predict:', predictions)\n"
   ]
  }
 ],
 "metadata": {
  "kernelspec": {
   "display_name": "base",
   "language": "python",
   "name": "python3"
  },
  "language_info": {
   "codemirror_mode": {
    "name": "ipython",
    "version": 3
   },
   "file_extension": ".py",
   "mimetype": "text/x-python",
   "name": "python",
   "nbconvert_exporter": "python",
   "pygments_lexer": "ipython3",
   "version": "3.9.13"
  }
 },
 "nbformat": 4,
 "nbformat_minor": 2
}
