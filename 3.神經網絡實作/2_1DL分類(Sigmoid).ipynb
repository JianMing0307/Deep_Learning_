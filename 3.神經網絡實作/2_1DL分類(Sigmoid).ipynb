{
 "cells": [
  {
   "cell_type": "markdown",
   "metadata": {},
   "source": [
    "# 1. Use Sigmoid--->一顆神經元"
   ]
  },
  {
   "cell_type": "markdown",
   "metadata": {},
   "source": []
  },
  {
   "cell_type": "markdown",
   "metadata": {},
   "source": [
    "## 你是一個Deep Learning 專家，針對以下的數據，撰寫深度學習的Python 訓練模型，預測 Diabetic ，過程中使用 Sequential class 方式加上callback與劃出callback訓練結果\n",
    "\n",
    "\n",
    "### PatientID,Pregnancies,PlasmaGlucose,DiastolicBloodPressure,TricepsThickness,SerumInsulin,BMI,DiabetesPedigree,Age,Diabetic\n",
    "### 1354778,0,171,80,34,23,43.50972593,1.213191354,21,0\n",
    "### 1147438,8,92,93,47,36,21.24057571,0.158364981,23,0\n",
    "### 1640031,7,115,47,52,35,41.51152348,0.079018568,23,0\n",
    "### 1883350,9,103,78,25,304,29.58219193,1.282869847,43,1\n",
    "### 1424119,1,85,59,27,35,42.60453585,0.549541871,22,0\n",
    "### 1619297,0,82,92,9,253,19.72416021,0.103424498,26,0\n",
    "### 1660149,0,133,47,19,227,21.94135672,0.174159779,21,0"
   ]
  },
  {
   "cell_type": "code",
   "execution_count": 1,
   "metadata": {},
   "outputs": [
    {
     "name": "stdout",
     "output_type": "stream",
     "text": [
      "Epoch 1/50\n",
      "750/750 - 2s - loss: 0.4048 - accuracy: 0.8066 - val_loss: 0.3534 - val_accuracy: 0.8327 - 2s/epoch - 3ms/step\n",
      "Epoch 2/50\n",
      "750/750 - 1s - loss: 0.3187 - accuracy: 0.8575 - val_loss: 0.3069 - val_accuracy: 0.8647 - 760ms/epoch - 1ms/step\n",
      "Epoch 3/50\n",
      "750/750 - 1s - loss: 0.2883 - accuracy: 0.8753 - val_loss: 0.2852 - val_accuracy: 0.8753 - 758ms/epoch - 1ms/step\n",
      "Epoch 4/50\n",
      "750/750 - 1s - loss: 0.2701 - accuracy: 0.8889 - val_loss: 0.2758 - val_accuracy: 0.8787 - 763ms/epoch - 1ms/step\n",
      "Epoch 5/50\n",
      "750/750 - 1s - loss: 0.2574 - accuracy: 0.8916 - val_loss: 0.2738 - val_accuracy: 0.8840 - 759ms/epoch - 1ms/step\n",
      "Epoch 6/50\n",
      "750/750 - 1s - loss: 0.2470 - accuracy: 0.8976 - val_loss: 0.2532 - val_accuracy: 0.8933 - 763ms/epoch - 1ms/step\n",
      "Epoch 7/50\n",
      "750/750 - 1s - loss: 0.2371 - accuracy: 0.9011 - val_loss: 0.2464 - val_accuracy: 0.8970 - 774ms/epoch - 1ms/step\n",
      "Epoch 8/50\n",
      "750/750 - 1s - loss: 0.2294 - accuracy: 0.9065 - val_loss: 0.2489 - val_accuracy: 0.8910 - 764ms/epoch - 1ms/step\n",
      "Epoch 9/50\n",
      "750/750 - 1s - loss: 0.2225 - accuracy: 0.9082 - val_loss: 0.2421 - val_accuracy: 0.8977 - 762ms/epoch - 1ms/step\n",
      "Epoch 10/50\n",
      "750/750 - 1s - loss: 0.2170 - accuracy: 0.9117 - val_loss: 0.2335 - val_accuracy: 0.9023 - 755ms/epoch - 1ms/step\n",
      "Epoch 11/50\n",
      "750/750 - 1s - loss: 0.2135 - accuracy: 0.9130 - val_loss: 0.2393 - val_accuracy: 0.9003 - 760ms/epoch - 1ms/step\n",
      "Epoch 12/50\n",
      "750/750 - 1s - loss: 0.2085 - accuracy: 0.9174 - val_loss: 0.2294 - val_accuracy: 0.9043 - 761ms/epoch - 1ms/step\n",
      "Epoch 13/50\n",
      "750/750 - 1s - loss: 0.2063 - accuracy: 0.9159 - val_loss: 0.2294 - val_accuracy: 0.9050 - 764ms/epoch - 1ms/step\n",
      "Epoch 14/50\n",
      "750/750 - 1s - loss: 0.2040 - accuracy: 0.9179 - val_loss: 0.2294 - val_accuracy: 0.9050 - 758ms/epoch - 1ms/step\n",
      "Epoch 15/50\n",
      "750/750 - 1s - loss: 0.2022 - accuracy: 0.9172 - val_loss: 0.2217 - val_accuracy: 0.9060 - 760ms/epoch - 1ms/step\n",
      "Epoch 16/50\n",
      "750/750 - 1s - loss: 0.1976 - accuracy: 0.9188 - val_loss: 0.2281 - val_accuracy: 0.9027 - 763ms/epoch - 1ms/step\n",
      "Epoch 17/50\n",
      "750/750 - 1s - loss: 0.1963 - accuracy: 0.9215 - val_loss: 0.2261 - val_accuracy: 0.9057 - 788ms/epoch - 1ms/step\n",
      "Epoch 18/50\n",
      "750/750 - 1s - loss: 0.1948 - accuracy: 0.9211 - val_loss: 0.2253 - val_accuracy: 0.9063 - 760ms/epoch - 1ms/step\n",
      "Epoch 19/50\n",
      "750/750 - 1s - loss: 0.1916 - accuracy: 0.9218 - val_loss: 0.2262 - val_accuracy: 0.9087 - 765ms/epoch - 1ms/step\n",
      "Epoch 20/50\n",
      "750/750 - 1s - loss: 0.1899 - accuracy: 0.9210 - val_loss: 0.2162 - val_accuracy: 0.9130 - 768ms/epoch - 1ms/step\n",
      "Epoch 21/50\n",
      "750/750 - 1s - loss: 0.1883 - accuracy: 0.9211 - val_loss: 0.2197 - val_accuracy: 0.9100 - 758ms/epoch - 1ms/step\n",
      "Epoch 22/50\n",
      "750/750 - 1s - loss: 0.1855 - accuracy: 0.9256 - val_loss: 0.2226 - val_accuracy: 0.9117 - 757ms/epoch - 1ms/step\n",
      "Epoch 23/50\n",
      "750/750 - 1s - loss: 0.1852 - accuracy: 0.9249 - val_loss: 0.2204 - val_accuracy: 0.9113 - 762ms/epoch - 1ms/step\n",
      "Epoch 24/50\n",
      "750/750 - 1s - loss: 0.1821 - accuracy: 0.9253 - val_loss: 0.2204 - val_accuracy: 0.9080 - 773ms/epoch - 1ms/step\n",
      "Epoch 25/50\n",
      "750/750 - 1s - loss: 0.1799 - accuracy: 0.9278 - val_loss: 0.2274 - val_accuracy: 0.9093 - 764ms/epoch - 1ms/step\n",
      "Epoch 26/50\n",
      "750/750 - 1s - loss: 0.1779 - accuracy: 0.9281 - val_loss: 0.2145 - val_accuracy: 0.9147 - 736ms/epoch - 981us/step\n",
      "Epoch 27/50\n",
      "750/750 - 1s - loss: 0.1769 - accuracy: 0.9258 - val_loss: 0.2187 - val_accuracy: 0.9127 - 769ms/epoch - 1ms/step\n",
      "Epoch 28/50\n",
      "750/750 - 1s - loss: 0.1763 - accuracy: 0.9287 - val_loss: 0.2327 - val_accuracy: 0.9050 - 760ms/epoch - 1ms/step\n",
      "Epoch 29/50\n",
      "750/750 - 1s - loss: 0.1756 - accuracy: 0.9303 - val_loss: 0.2142 - val_accuracy: 0.9110 - 764ms/epoch - 1ms/step\n",
      "Epoch 30/50\n",
      "750/750 - 1s - loss: 0.1742 - accuracy: 0.9280 - val_loss: 0.2160 - val_accuracy: 0.9143 - 796ms/epoch - 1ms/step\n",
      "Epoch 31/50\n",
      "750/750 - 1s - loss: 0.1725 - accuracy: 0.9293 - val_loss: 0.2165 - val_accuracy: 0.9110 - 740ms/epoch - 987us/step\n",
      "Epoch 32/50\n",
      "750/750 - 1s - loss: 0.1716 - accuracy: 0.9311 - val_loss: 0.2199 - val_accuracy: 0.9117 - 741ms/epoch - 987us/step\n",
      "Epoch 33/50\n",
      "750/750 - 1s - loss: 0.1700 - accuracy: 0.9316 - val_loss: 0.2124 - val_accuracy: 0.9143 - 777ms/epoch - 1ms/step\n",
      "Epoch 34/50\n",
      "750/750 - 1s - loss: 0.1679 - accuracy: 0.9328 - val_loss: 0.2152 - val_accuracy: 0.9157 - 763ms/epoch - 1ms/step\n",
      "Epoch 35/50\n",
      "750/750 - 1s - loss: 0.1677 - accuracy: 0.9317 - val_loss: 0.2124 - val_accuracy: 0.9123 - 759ms/epoch - 1ms/step\n",
      "Epoch 36/50\n",
      "750/750 - 1s - loss: 0.1661 - accuracy: 0.9337 - val_loss: 0.2213 - val_accuracy: 0.9110 - 759ms/epoch - 1ms/step\n",
      "Epoch 37/50\n",
      "750/750 - 1s - loss: 0.1653 - accuracy: 0.9331 - val_loss: 0.2192 - val_accuracy: 0.9110 - 768ms/epoch - 1ms/step\n",
      "Epoch 38/50\n",
      "750/750 - 1s - loss: 0.1651 - accuracy: 0.9338 - val_loss: 0.2127 - val_accuracy: 0.9127 - 766ms/epoch - 1ms/step\n",
      "Epoch 39/50\n",
      "750/750 - 1s - loss: 0.1661 - accuracy: 0.9315 - val_loss: 0.2384 - val_accuracy: 0.9073 - 763ms/epoch - 1ms/step\n",
      "Epoch 40/50\n",
      "750/750 - 1s - loss: 0.1622 - accuracy: 0.9355 - val_loss: 0.2169 - val_accuracy: 0.9090 - 753ms/epoch - 1ms/step\n",
      "Epoch 41/50\n",
      "750/750 - 1s - loss: 0.1612 - accuracy: 0.9338 - val_loss: 0.2208 - val_accuracy: 0.9123 - 755ms/epoch - 1ms/step\n",
      "Epoch 42/50\n",
      "750/750 - 1s - loss: 0.1614 - accuracy: 0.9347 - val_loss: 0.2120 - val_accuracy: 0.9090 - 754ms/epoch - 1ms/step\n",
      "Epoch 43/50\n",
      "750/750 - 1s - loss: 0.1604 - accuracy: 0.9340 - val_loss: 0.2146 - val_accuracy: 0.9100 - 761ms/epoch - 1ms/step\n",
      "Epoch 44/50\n",
      "750/750 - 1s - loss: 0.1599 - accuracy: 0.9366 - val_loss: 0.2115 - val_accuracy: 0.9173 - 765ms/epoch - 1ms/step\n",
      "Epoch 45/50\n",
      "750/750 - 1s - loss: 0.1584 - accuracy: 0.9361 - val_loss: 0.2167 - val_accuracy: 0.9113 - 761ms/epoch - 1ms/step\n",
      "Epoch 46/50\n",
      "750/750 - 1s - loss: 0.1574 - accuracy: 0.9375 - val_loss: 0.2220 - val_accuracy: 0.9110 - 809ms/epoch - 1ms/step\n",
      "Epoch 47/50\n",
      "750/750 - 1s - loss: 0.1565 - accuracy: 0.9379 - val_loss: 0.2092 - val_accuracy: 0.9160 - 761ms/epoch - 1ms/step\n",
      "Epoch 48/50\n",
      "750/750 - 1s - loss: 0.1566 - accuracy: 0.9363 - val_loss: 0.2124 - val_accuracy: 0.9137 - 762ms/epoch - 1ms/step\n",
      "Epoch 49/50\n",
      "750/750 - 1s - loss: 0.1534 - accuracy: 0.9373 - val_loss: 0.2181 - val_accuracy: 0.9160 - 770ms/epoch - 1ms/step\n",
      "Epoch 50/50\n",
      "750/750 - 1s - loss: 0.1552 - accuracy: 0.9385 - val_loss: 0.2183 - val_accuracy: 0.9127 - 760ms/epoch - 1ms/step\n",
      "94/94 [==============================] - 0s 859us/step - loss: 0.2183 - accuracy: 0.9127\n",
      "测试集上的损失：0.2182530164718628\n",
      "测试集上的准确率：0.9126666784286499\n"
     ]
    }
   ],
   "source": [
    "import numpy as np\n",
    "import pandas as pd\n",
    "from sklearn.model_selection import train_test_split\n",
    "from sklearn.preprocessing import StandardScaler\n",
    "from tensorflow import keras\n",
    "from tensorflow.keras import layers\n",
    "\n",
    "data = pd.read_csv('diabetes.csv')  \n",
    "\n",
    "# 分割数据为特征 (X) 和标签 (y)\n",
    "X = data.iloc[:, 1:-1]  # 使用除了PatientID和Diabetic列之外的所有列作为特征\n",
    "y = data['Diabetic']\n",
    "\n",
    "# 数据标准化\n",
    "scaler = StandardScaler()\n",
    "X = scaler.fit_transform(X)\n",
    "\n",
    "# 分割数据为训练集和测试集\n",
    "X_train, X_test, y_train, y_test = train_test_split(X, y, test_size=0.2, random_state=42)\n",
    "\n",
    "# 创建 Sequential 模型\n",
    "model = keras.Sequential()\n",
    "\n",
    "# 添加输入层\n",
    "model.add(layers.Input(shape=(X_train.shape[1],)))\n",
    "\n",
    "# 添加隐藏层\n",
    "model.add(layers.Dense(64, activation='relu'))\n",
    "model.add(layers.Dense(32, activation='relu'))\n",
    "\n",
    "# 添加输出层\n",
    "model.add(layers.Dense(1, activation='sigmoid'))  # 二元分类问题，使用 sigmoid 激活函数\n",
    "\n",
    "# 编译模型\n",
    "model.compile(optimizer='adam', loss='binary_crossentropy', metrics=['accuracy'])\n",
    "\n",
    "# 训练模型\n",
    "history = model.fit(X_train, y_train, epochs=50, batch_size=16, verbose = 2, validation_data=(X_test, y_test))\n",
    "\n",
    "# 评估模型\n",
    "loss, accuracy = model.evaluate(X_test, y_test)\n",
    "print(f'测试集上的损失：{loss}')\n",
    "print(f'测试集上的准确率：{accuracy}')\n"
   ]
  },
  {
   "cell_type": "code",
   "execution_count": 2,
   "metadata": {},
   "outputs": [
    {
     "name": "stdout",
     "output_type": "stream",
     "text": [
      "dict_keys(['loss', 'accuracy', 'val_loss', 'val_accuracy'])\n"
     ]
    },
    {
     "data": {
      "text/plain": [
       "[0.8065833449363708, 0.8575000166893005, 0.875333309173584]"
      ]
     },
     "execution_count": 2,
     "metadata": {},
     "output_type": "execute_result"
    }
   ],
   "source": [
    "print(history.history.keys())\n",
    "history.history['accuracy'][:3]"
   ]
  },
  {
   "cell_type": "code",
   "execution_count": 3,
   "metadata": {},
   "outputs": [
    {
     "data": {
      "image/png": "[encoded data removed]",
      "text/plain": [
       "<Figure size 1200x300 with 1 Axes>"
      ]
     },
     "metadata": {},
     "output_type": "display_data"
    },
    {
     "data": {
      "image/png": "[encoded data removed]",
      "text/plain": [
       "<Figure size 1200x300 with 1 Axes>"
      ]
     },
     "metadata": {},
     "output_type": "display_data"
    }
   ],
   "source": [
    "import matplotlib.pyplot as plt\n",
    "plt.figure(figsize=(12, 3))\n",
    "plt.plot(history.history['accuracy'], color = 'red')\n",
    "plt.plot(history.history['val_accuracy'], color = 'blue')\n",
    "plt.grid()\n",
    "plt.title('accuracy vs val_accuracy')\n",
    "plt.show()\n",
    "\n",
    "import matplotlib.pyplot as plt\n",
    "plt.figure(figsize=(12, 3))\n",
    "plt.plot(history.history['loss'], color = 'red')\n",
    "plt.plot(history.history['val_loss'], color = 'blue')\n",
    "plt.grid()\n",
    "plt.title('accuracy vs val_accuracy')\n",
    "plt.show()"
   ]
  },
  {
   "cell_type": "markdown",
   "metadata": {},
   "source": [
    "# 1. Use Sigmoid--->一顆神經元"
   ]
  },
  {
   "cell_type": "code",
   "execution_count": 4,
   "metadata": {},
   "outputs": [
    {
     "name": "stdout",
     "output_type": "stream",
     "text": [
      "1/1 [==============================] - 0s 88ms/step\n",
      "预测结果：1.0\n"
     ]
    },
    {
     "name": "stderr",
     "output_type": "stream",
     "text": [
      "d:\\anaconda\\lib\\site-packages\\sklearn\\base.py:450: UserWarning: X does not have valid feature names, but StandardScaler was fitted with feature names\n",
      "  warnings.warn(\n"
     ]
    }
   ],
   "source": [
    "# 预测新数据\n",
    "new_data = np.array([[100, 70, 30, 40, 20, 35, 0.5, 30]])  # 替换为你的新数据\n",
    "new_data = scaler.transform(new_data)\n",
    "prediction = model.predict(new_data)\n",
    "print(f'预测结果：{prediction[0][0]}')"
   ]
  },
  {
   "cell_type": "markdown",
   "metadata": {},
   "source": [
    "# practice"
   ]
  },
  {
   "cell_type": "markdown",
   "metadata": {},
   "source": [
    "### 請輸出類似以下的結果 :\n",
    "### PatientID,Pregnancies,PlasmaGlucose,DiastolicBloodPressure,TricepsThickness,SerumInsulin,BMI,DiabetesPedigree,Age, Diabetic(0, 1), Predict(0, 1),Accuracy(正確, 錯誤)\n"
   ]
  },
  {
   "cell_type": "markdown",
   "metadata": {},
   "source": [
    "### (np.where( ) / ravel( )---->np)"
   ]
  },
  {
   "cell_type": "code",
   "execution_count": 5,
   "metadata": {},
   "outputs": [
    {
     "name": "stderr",
     "output_type": "stream",
     "text": [
      "d:\\anaconda\\lib\\site-packages\\sklearn\\base.py:450: UserWarning: X does not have valid feature names, but StandardScaler was fitted with feature names\n",
      "  warnings.warn(\n"
     ]
    },
    {
     "name": "stdout",
     "output_type": "stream",
     "text": [
      "469/469 [==============================] - 0s 830us/step\n"
     ]
    },
    {
     "data": {
      "text/html": [
       "<div>\n",
       "<style scoped>\n",
       "    .dataframe tbody tr th:only-of-type {\n",
       "        vertical-align: middle;\n",
       "    }\n",
       "\n",
       "    .dataframe tbody tr th {\n",
       "        vertical-align: top;\n",
       "    }\n",
       "\n",
       "    .dataframe thead th {\n",
       "        text-align: right;\n",
       "    }\n",
       "</style>\n",
       "<table border=\"1\" class=\"dataframe\">\n",
       "  <thead>\n",
       "    <tr style=\"text-align: right;\">\n",
       "      <th></th>\n",
       "      <th>PatientID</th>\n",
       "      <th>Pregnancies</th>\n",
       "      <th>PlasmaGlucose</th>\n",
       "      <th>DiastolicBloodPressure</th>\n",
       "      <th>TricepsThickness</th>\n",
       "      <th>SerumInsulin</th>\n",
       "      <th>BMI</th>\n",
       "      <th>DiabetesPedigree</th>\n",
       "      <th>Age</th>\n",
       "      <th>Diabetic</th>\n",
       "      <th>Predict</th>\n",
       "    </tr>\n",
       "  </thead>\n",
       "  <tbody>\n",
       "    <tr>\n",
       "      <th>0</th>\n",
       "      <td>1354778</td>\n",
       "      <td>0</td>\n",
       "      <td>171</td>\n",
       "      <td>80</td>\n",
       "      <td>34</td>\n",
       "      <td>23</td>\n",
       "      <td>43.509726</td>\n",
       "      <td>1.213191</td>\n",
       "      <td>21</td>\n",
       "      <td>0</td>\n",
       "      <td>0</td>\n",
       "    </tr>\n",
       "    <tr>\n",
       "      <th>1</th>\n",
       "      <td>1147438</td>\n",
       "      <td>8</td>\n",
       "      <td>92</td>\n",
       "      <td>93</td>\n",
       "      <td>47</td>\n",
       "      <td>36</td>\n",
       "      <td>21.240576</td>\n",
       "      <td>0.158365</td>\n",
       "      <td>23</td>\n",
       "      <td>0</td>\n",
       "      <td>0</td>\n",
       "    </tr>\n",
       "    <tr>\n",
       "      <th>2</th>\n",
       "      <td>1640031</td>\n",
       "      <td>7</td>\n",
       "      <td>115</td>\n",
       "      <td>47</td>\n",
       "      <td>52</td>\n",
       "      <td>35</td>\n",
       "      <td>41.511523</td>\n",
       "      <td>0.079019</td>\n",
       "      <td>23</td>\n",
       "      <td>0</td>\n",
       "      <td>0</td>\n",
       "    </tr>\n",
       "  </tbody>\n",
       "</table>\n",
       "</div>"
      ],
      "text/plain": [
       "   PatientID  Pregnancies  PlasmaGlucose  DiastolicBloodPressure  \\\n",
       "0    1354778            0            171                      80   \n",
       "1    1147438            8             92                      93   \n",
       "2    1640031            7            115                      47   \n",
       "\n",
       "   TricepsThickness  SerumInsulin        BMI  DiabetesPedigree  Age  Diabetic  \\\n",
       "0                34            23  43.509726          1.213191   21         0   \n",
       "1                47            36  21.240576          0.158365   23         0   \n",
       "2                52            35  41.511523          0.079019   23         0   \n",
       "\n",
       "   Predict  \n",
       "0        0  \n",
       "1        0  \n",
       "2        0  "
      ]
     },
     "execution_count": 5,
     "metadata": {},
     "output_type": "execute_result"
    }
   ],
   "source": [
    "import numpy as np\n",
    "data = pd.read_csv('diabetes.csv')\n",
    "all_data = data.iloc[:, 1:-1].values\n",
    "all_data = scaler.transform(all_data)\n",
    "all_prediction = model.predict(all_data) # 因為最後一顆神經元是1個 使用sigmoid 數字輸出(0..1),不能用argmax\n",
    "data['Predict'] = np.where( (all_prediction.ravel() >= 0.5) == True, 1, 0)\n",
    "data[:3]  #將所有預測轉換成一階張量後 判斷生病機率是否大(等)於 0.5 若就是有病 否則就是正常\n",
    "          #np.where 針對陣列批次轉換成為另外顯示資料，類似單一值 if else\n"
   ]
  },
  {
   "cell_type": "code",
   "execution_count": 6,
   "metadata": {},
   "outputs": [
    {
     "data": {
      "text/html": [
       "<div>\n",
       "<style scoped>\n",
       "    .dataframe tbody tr th:only-of-type {\n",
       "        vertical-align: middle;\n",
       "    }\n",
       "\n",
       "    .dataframe tbody tr th {\n",
       "        vertical-align: top;\n",
       "    }\n",
       "\n",
       "    .dataframe thead th {\n",
       "        text-align: right;\n",
       "    }\n",
       "</style>\n",
       "<table border=\"1\" class=\"dataframe\">\n",
       "  <thead>\n",
       "    <tr style=\"text-align: right;\">\n",
       "      <th></th>\n",
       "      <th>PatientID</th>\n",
       "      <th>Pregnancies</th>\n",
       "      <th>PlasmaGlucose</th>\n",
       "      <th>DiastolicBloodPressure</th>\n",
       "      <th>TricepsThickness</th>\n",
       "      <th>SerumInsulin</th>\n",
       "      <th>BMI</th>\n",
       "      <th>DiabetesPedigree</th>\n",
       "      <th>Age</th>\n",
       "      <th>Diabetic</th>\n",
       "      <th>Predict</th>\n",
       "      <th>Accuracy</th>\n",
       "    </tr>\n",
       "  </thead>\n",
       "  <tbody>\n",
       "    <tr>\n",
       "      <th>0</th>\n",
       "      <td>1354778</td>\n",
       "      <td>0</td>\n",
       "      <td>171</td>\n",
       "      <td>80</td>\n",
       "      <td>34</td>\n",
       "      <td>23</td>\n",
       "      <td>43.509726</td>\n",
       "      <td>1.213191</td>\n",
       "      <td>21</td>\n",
       "      <td>0</td>\n",
       "      <td>0</td>\n",
       "      <td>正確</td>\n",
       "    </tr>\n",
       "    <tr>\n",
       "      <th>1</th>\n",
       "      <td>1147438</td>\n",
       "      <td>8</td>\n",
       "      <td>92</td>\n",
       "      <td>93</td>\n",
       "      <td>47</td>\n",
       "      <td>36</td>\n",
       "      <td>21.240576</td>\n",
       "      <td>0.158365</td>\n",
       "      <td>23</td>\n",
       "      <td>0</td>\n",
       "      <td>0</td>\n",
       "      <td>正確</td>\n",
       "    </tr>\n",
       "    <tr>\n",
       "      <th>2</th>\n",
       "      <td>1640031</td>\n",
       "      <td>7</td>\n",
       "      <td>115</td>\n",
       "      <td>47</td>\n",
       "      <td>52</td>\n",
       "      <td>35</td>\n",
       "      <td>41.511523</td>\n",
       "      <td>0.079019</td>\n",
       "      <td>23</td>\n",
       "      <td>0</td>\n",
       "      <td>0</td>\n",
       "      <td>正確</td>\n",
       "    </tr>\n",
       "  </tbody>\n",
       "</table>\n",
       "</div>"
      ],
      "text/plain": [
       "   PatientID  Pregnancies  PlasmaGlucose  DiastolicBloodPressure  \\\n",
       "0    1354778            0            171                      80   \n",
       "1    1147438            8             92                      93   \n",
       "2    1640031            7            115                      47   \n",
       "\n",
       "   TricepsThickness  SerumInsulin        BMI  DiabetesPedigree  Age  Diabetic  \\\n",
       "0                34            23  43.509726          1.213191   21         0   \n",
       "1                47            36  21.240576          0.158365   23         0   \n",
       "2                52            35  41.511523          0.079019   23         0   \n",
       "\n",
       "   Predict Accuracy  \n",
       "0        0       正確  \n",
       "1        0       正確  \n",
       "2        0       正確  "
      ]
     },
     "execution_count": 6,
     "metadata": {},
     "output_type": "execute_result"
    }
   ],
   "source": [
    "data['Accuracy'] = (data['Diabetic']==data['Predict'] )\n",
    "data['Accuracy'] = data['Accuracy'].apply(lambda x : '正確' if x == True else '錯誤')\n",
    "data[:3]"
   ]
  },
  {
   "cell_type": "code",
   "execution_count": 7,
   "metadata": {},
   "outputs": [],
   "source": [
    "data.to_excel('diabetes.xlsx', index = None)"
   ]
  },
  {
   "cell_type": "markdown",
   "metadata": {},
   "source": []
  },
  {
   "cell_type": "markdown",
   "metadata": {},
   "source": [
    "# 2. Use Softmax--->2顆神經元\n",
    "## (更改輸出層)"
   ]
  },
  {
   "cell_type": "code",
   "execution_count": null,
   "metadata": {},
   "outputs": [],
   "source": []
  },
  {
   "cell_type": "code",
   "execution_count": null,
   "metadata": {},
   "outputs": [],
   "source": []
  },
  {
   "cell_type": "code",
   "execution_count": null,
   "metadata": {},
   "outputs": [],
   "source": []
  },
  {
   "cell_type": "code",
   "execution_count": null,
   "metadata": {},
   "outputs": [],
   "source": []
  }
 ],
 "metadata": {
  "kernelspec": {
   "display_name": "base",
   "language": "python",
   "name": "python3"
  },
  "language_info": {
   "codemirror_mode": {
    "name": "ipython",
    "version": 3
   },
   "file_extension": ".py",
   "mimetype": "text/x-python",
   "name": "python",
   "nbconvert_exporter": "python",
   "pygments_lexer": "ipython3",
   "version": "3.9.13"
  },
  "orig_nbformat": 4
 },
 "nbformat": 4,
 "nbformat_minor": 2
}
