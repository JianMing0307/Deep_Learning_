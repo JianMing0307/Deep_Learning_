{
 "cells": [
  {
   "cell_type": "markdown",
   "metadata": {},
   "source": [
    "# 2. Use Softmax--->2顆神經元\n",
    "## (更改輸出層)"
   ]
  },
  {
   "cell_type": "code",
   "execution_count": null,
   "metadata": {},
   "outputs": [],
   "source": [
    "from sklearn.preprocessing import OneHotEncoder\n",
    "from keras.utils import to_categorical\n",
    "data = pd.read_csv('diabetes.csv')  \n",
    "\n",
    "# 分割数据为特征 (X) 和标签 (y)\n",
    "X = data.iloc[:, 1:-1]  \n",
    "y = data['Diabetic'].values.reshape(-1, 1)\n",
    "# ohe = OneHotEncoder()\n",
    "# ohe.fit_transform(y)[:3]\n",
    "encoded = to_categorical(y).astype('int')\n",
    "encoded"
   ]
  },
  {
   "cell_type": "markdown",
   "metadata": {},
   "source": [
    "### (to_categorical(y) / np.argmax( ))"
   ]
  },
  {
   "cell_type": "code",
   "execution_count": null,
   "metadata": {},
   "outputs": [],
   "source": [
    "import numpy as np\n",
    "import pandas as pd\n",
    "from sklearn.model_selection import train_test_split\n",
    "from sklearn.preprocessing import StandardScaler\n",
    "from keras.utils import to_categorical\n",
    "from tensorflow import keras\n",
    "from tensorflow.keras import layers\n",
    "\n",
    "\n",
    "data = pd.read_csv('diabetes.csv')  \n",
    "\n",
    "X = data.iloc[:, 1:-1]  \n",
    "y = data['Diabetic'].values.reshape(-1, 1)\n",
    "y = to_categorical(y).astype('int') # 因為輸出的時候分成 [0, 1] 對應機率\n",
    "\n",
    "scaler = StandardScaler()\n",
    "X = scaler.fit_transform(X)\n",
    "\n",
    "X_train, X_test, y_train, y_test = train_test_split(X, y, test_size=0.2, random_state=42)\n",
    "\n",
    "model = keras.Sequential()\n",
    "model.add(layers.Input(shape=(X_train.shape[1],)))\n",
    "model.add(layers.Dense(64, activation='relu'))\n",
    "model.add(layers.Dense(32, activation='relu'))\n",
    "model.add(layers.Dense(2, activation='softmax'))  # 二元分类问题，使用 softmax 激活函数\n",
    "model.compile(optimizer='adam', loss='binary_crossentropy', metrics=['accuracy'])\n",
    "history = model.fit(X_train, y_train, epochs=50, batch_size=16, verbose = 2, validation_data=(X_test, y_test))\n",
    "\n",
    "loss, accuracy = model.evaluate(X_test, y_test)\n",
    "print(f'测试集上的损失：{loss}')\n",
    "print(f'测试集上的准确率：{accuracy}')\n"
   ]
  },
  {
   "cell_type": "code",
   "execution_count": null,
   "metadata": {},
   "outputs": [],
   "source": [
    "print(history.history.keys())\n",
    "history.history['accuracy'][:3]"
   ]
  },
  {
   "cell_type": "code",
   "execution_count": null,
   "metadata": {},
   "outputs": [],
   "source": [
    "import matplotlib.pyplot as plt\n",
    "plt.figure(figsize=(12, 3))\n",
    "plt.plot(history.history['accuracy'], color = 'red')\n",
    "plt.plot(history.history['val_accuracy'], color = 'blue')\n",
    "plt.grid()\n",
    "plt.title('accuracy vs val_accuracy')\n",
    "plt.show()\n",
    "\n",
    "import matplotlib.pyplot as plt\n",
    "plt.figure(figsize=(12, 3))\n",
    "plt.plot(history.history['loss'], color = 'red')\n",
    "plt.plot(history.history['val_loss'], color = 'blue')\n",
    "plt.grid()\n",
    "plt.title('accuracy vs val_accuracy')\n",
    "plt.show()"
   ]
  },
  {
   "cell_type": "code",
   "execution_count": null,
   "metadata": {},
   "outputs": [],
   "source": [
    "# 预测新数据\n",
    "import warnings\n",
    "warnings.filterwarnings(\"ignore\")\n",
    "\n",
    "new_data = np.array([[10, 70, 30, 40, 20, 35, 0.5, 30]])  # 替换为你的新数据\n",
    "new_data = scaler.transform(new_data)\n",
    "prediction = model.predict(new_data)\n",
    "print(np.argmax(prediction, axis=1))\n",
    "print(f'预测结果：{np.argmax(prediction, axis=1)[0]}')"
   ]
  },
  {
   "cell_type": "markdown",
   "metadata": {},
   "source": [
    "### 請輸出類似以下的結果 :\n",
    "### PatientID,Pregnancies,PlasmaGlucose,DiastolicBloodPressure,TricepsThickness,SerumInsulin,BMI,DiabetesPedigree,Age, Diabetic(0, 1), Predict(0, 1),Accuracy(正確, 錯誤)\n"
   ]
  },
  {
   "cell_type": "code",
   "execution_count": null,
   "metadata": {},
   "outputs": [],
   "source": [
    "import numpy as np\n",
    "data = pd.read_csv('diabetes.csv')\n",
    "all_data = data.iloc[:, 1:-1].values\n",
    "all_data = scaler.transform(all_data)\n",
    "all_prediction = model.predict(all_data) # 因為最後一顆神經元是2個 softmax輸出\n",
    "data['Predict'] = np.argmax(all_prediction, axis = 1)\n",
    "data[:3]\n",
    "# data['Predict'] = np.where( (all_prediction.ravel() >= 0.5) == True, 1, 0)\n",
    "# data[:3]  #將所有預測轉換成一階張量後 判斷生病機率是否大(等)於 0.5 若就是有病 否則就是正常\n",
    "#           #np.where 針對陣列批次轉換成為另外顯示資料，類似單一值 if else\n"
   ]
  },
  {
   "cell_type": "code",
   "execution_count": null,
   "metadata": {},
   "outputs": [],
   "source": [
    "data['Accuracy'] = (data['Diabetic']==data['Predict'] )\n",
    "data['Accuracy'] = data['Accuracy'].apply(lambda x : '正確' if x == True else '錯誤')\n",
    "data[:3]"
   ]
  },
  {
   "cell_type": "code",
   "execution_count": null,
   "metadata": {},
   "outputs": [],
   "source": [
    "data.to_excel('diabetes-softmax.xlsx', index = None)"
   ]
  }
 ],
 "metadata": {
  "kernelspec": {
   "display_name": "base",
   "language": "python",
   "name": "python3"
  },
  "language_info": {
   "name": "python",
   "version": "3.9.13"
  },
  "orig_nbformat": 4
 },
 "nbformat": 4,
 "nbformat_minor": 2
}
