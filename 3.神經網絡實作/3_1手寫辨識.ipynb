{
 "cells": [
  {
   "cell_type": "code",
   "execution_count": 1,
   "metadata": {},
   "outputs": [
    {
     "data": {
      "text/plain": [
       "dict_keys(['data', 'target', 'frame', 'feature_names', 'target_names', 'images', 'DESCR'])"
      ]
     },
     "execution_count": 1,
     "metadata": {},
     "output_type": "execute_result"
    }
   ],
   "source": [
    "# 數據\n",
    "from sklearn import datasets\n",
    "data = datasets.load_digits()\n",
    "data.keys()"
   ]
  },
  {
   "cell_type": "code",
   "execution_count": 2,
   "metadata": {},
   "outputs": [
    {
     "data": {
      "text/plain": [
       "array([[ 0.,  0.,  5., 13.,  9.,  1.,  0.,  0.,  0.,  0., 13., 15., 10.,\n",
       "        15.,  5.,  0.,  0.,  3., 15.,  2.,  0., 11.,  8.,  0.,  0.,  4.,\n",
       "        12.,  0.,  0.,  8.,  8.,  0.,  0.,  5.,  8.,  0.,  0.,  9.,  8.,\n",
       "         0.,  0.,  4., 11.,  0.,  1., 12.,  7.,  0.,  0.,  2., 14.,  5.,\n",
       "        10., 12.,  0.,  0.,  0.,  0.,  6., 13., 10.,  0.,  0.,  0.],\n",
       "       [ 0.,  0.,  0., 12., 13.,  5.,  0.,  0.,  0.,  0.,  0., 11., 16.,\n",
       "         9.,  0.,  0.,  0.,  0.,  3., 15., 16.,  6.,  0.,  0.,  0.,  7.,\n",
       "        15., 16., 16.,  2.,  0.,  0.,  0.,  0.,  1., 16., 16.,  3.,  0.,\n",
       "         0.,  0.,  0.,  1., 16., 16.,  6.,  0.,  0.,  0.,  0.,  1., 16.,\n",
       "        16.,  6.,  0.,  0.,  0.,  0.,  0., 11., 16., 10.,  0.,  0.],\n",
       "       [ 0.,  0.,  0.,  4., 15., 12.,  0.,  0.,  0.,  0.,  3., 16., 15.,\n",
       "        14.,  0.,  0.,  0.,  0.,  8., 13.,  8., 16.,  0.,  0.,  0.,  0.,\n",
       "         1.,  6., 15., 11.,  0.,  0.,  0.,  1.,  8., 13., 15.,  1.,  0.,\n",
       "         0.,  0.,  9., 16., 16.,  5.,  0.,  0.,  0.,  0.,  3., 13., 16.,\n",
       "        16., 11.,  5.,  0.,  0.,  0.,  0.,  3., 11., 16.,  9.,  0.]])"
      ]
     },
     "execution_count": 2,
     "metadata": {},
     "output_type": "execute_result"
    }
   ],
   "source": [
    "# 數據解釋 X 就是影像被轉換成扁平的一階張量\n",
    "data['data'][:3]"
   ]
  },
  {
   "cell_type": "code",
   "execution_count": 3,
   "metadata": {},
   "outputs": [
    {
     "data": {
      "text/plain": [
       "array([0, 1, 2])"
      ]
     },
     "execution_count": 3,
     "metadata": {},
     "output_type": "execute_result"
    }
   ],
   "source": [
    "# 數據解釋 y\n",
    "data['target'][:3]"
   ]
  },
  {
   "cell_type": "code",
   "execution_count": 4,
   "metadata": {},
   "outputs": [
    {
     "name": "stdout",
     "output_type": "stream",
     "text": [
      "(1797, 64)\n"
     ]
    },
    {
     "data": {
      "image/png": "[encoded data removed]",
      "text/plain": [
       "<Figure size 40x40 with 1 Axes>"
      ]
     },
     "metadata": {},
     "output_type": "display_data"
    },
    {
     "data": {
      "image/png": "[encoded data removed]",
      "text/plain": [
       "<Figure size 40x40 with 1 Axes>"
      ]
     },
     "metadata": {},
     "output_type": "display_data"
    },
    {
     "data": {
      "image/png": "[encoded data removed]",
      "text/plain": [
       "<Figure size 40x40 with 1 Axes>"
      ]
     },
     "metadata": {},
     "output_type": "display_data"
    },
    {
     "data": {
      "image/png": "[encoded data removed]",
      "text/plain": [
       "<Figure size 40x40 with 1 Axes>"
      ]
     },
     "metadata": {},
     "output_type": "display_data"
    },
    {
     "data": {
      "image/png": "[encoded data removed]",
      "text/plain": [
       "<Figure size 40x40 with 1 Axes>"
      ]
     },
     "metadata": {},
     "output_type": "display_data"
    }
   ],
   "source": [
    "# 數據解釋\n",
    "print(data['data'].shape)\n",
    "import matplotlib.pyplot as plt\n",
    "for i in range(5):\n",
    "    plt.figure(figsize=(0.4, 0.4))\n",
    "    plt.imshow(data['data'][i].reshape(8, 8), cmap='gray')\n",
    "    plt.axis('off')\n",
    "    plt.show()\n"
   ]
  },
  {
   "cell_type": "code",
   "execution_count": 5,
   "metadata": {},
   "outputs": [
    {
     "data": {
      "text/plain": [
       "(array([0, 1, 2, ..., 8, 9, 8]),\n",
       " array([[1, 0, 0, ..., 0, 0, 0],\n",
       "        [0, 1, 0, ..., 0, 0, 0],\n",
       "        [0, 0, 1, ..., 0, 0, 0],\n",
       "        ...,\n",
       "        [0, 0, 0, ..., 0, 1, 0],\n",
       "        [0, 0, 0, ..., 0, 0, 1],\n",
       "        [0, 0, 0, ..., 0, 1, 0]]))"
      ]
     },
     "execution_count": 5,
     "metadata": {},
     "output_type": "execute_result"
    }
   ],
   "source": [
    "# 數據解釋\n",
    "from keras.utils import to_categorical\n",
    "X = data['data']\n",
    "y = data['target'].reshape(-1, 1)\n",
    "y = to_categorical(y).astype('int') # 因為輸出的時候分成 [0, 1] 對應機率\n",
    "data['target'], y"
   ]
  },
  {
   "cell_type": "code",
   "execution_count": 6,
   "metadata": {},
   "outputs": [
    {
     "name": "stdout",
     "output_type": "stream",
     "text": [
      "Model: \"sequential\"\n",
      "_________________________________________________________________\n",
      " Layer (type)                Output Shape              Param #   \n",
      "=================================================================\n",
      " dense (Dense)               (None, 64)                4160      \n",
      "                                                                 \n",
      " dense_1 (Dense)             (None, 32)                2080      \n",
      "                                                                 \n",
      " dense_2 (Dense)             (None, 10)                330       \n",
      "                                                                 \n",
      "=================================================================\n",
      "Total params: 6570 (25.66 KB)\n",
      "Trainable params: 6570 (25.66 KB)\n",
      "Non-trainable params: 0 (0.00 Byte)\n",
      "_________________________________________________________________\n",
      "Epoch 1/10\n",
      "90/90 - 1s - loss: 1.6100 - accuracy: 0.5456 - val_loss: 0.8450 - val_accuracy: 0.8639 - 1s/epoch - 16ms/step\n",
      "Epoch 2/10\n",
      "90/90 - 0s - loss: 0.5083 - accuracy: 0.9165 - val_loss: 0.2873 - val_accuracy: 0.9472 - 131ms/epoch - 1ms/step\n",
      "Epoch 3/10\n",
      "90/90 - 0s - loss: 0.2184 - accuracy: 0.9596 - val_loss: 0.1805 - val_accuracy: 0.9667 - 113ms/epoch - 1ms/step\n",
      "Epoch 4/10\n",
      "90/90 - 0s - loss: 0.1334 - accuracy: 0.9763 - val_loss: 0.1364 - val_accuracy: 0.9639 - 130ms/epoch - 1ms/step\n",
      "Epoch 5/10\n",
      "90/90 - 0s - loss: 0.0942 - accuracy: 0.9840 - val_loss: 0.1170 - val_accuracy: 0.9611 - 117ms/epoch - 1ms/step\n",
      "Epoch 6/10\n",
      "90/90 - 0s - loss: 0.0691 - accuracy: 0.9910 - val_loss: 0.1078 - val_accuracy: 0.9694 - 123ms/epoch - 1ms/step\n",
      "Epoch 7/10\n",
      "90/90 - 0s - loss: 0.0521 - accuracy: 0.9944 - val_loss: 0.0955 - val_accuracy: 0.9667 - 129ms/epoch - 1ms/step\n",
      "Epoch 8/10\n",
      "90/90 - 0s - loss: 0.0394 - accuracy: 0.9951 - val_loss: 0.0932 - val_accuracy: 0.9750 - 121ms/epoch - 1ms/step\n",
      "Epoch 9/10\n",
      "90/90 - 0s - loss: 0.0312 - accuracy: 0.9965 - val_loss: 0.0884 - val_accuracy: 0.9750 - 120ms/epoch - 1ms/step\n",
      "Epoch 10/10\n",
      "90/90 - 0s - loss: 0.0248 - accuracy: 0.9965 - val_loss: 0.0888 - val_accuracy: 0.9722 - 127ms/epoch - 1ms/step\n",
      "12/12 [==============================] - 0s 1ms/step - loss: 0.0888 - accuracy: 0.9722\n",
      "测试集上的损失：0.08876732736825943\n",
      "测试集上的准确率：0.9722222089767456\n"
     ]
    }
   ],
   "source": [
    "import numpy as np\n",
    "import pandas as pd\n",
    "from sklearn.model_selection import train_test_split\n",
    "from sklearn.preprocessing import StandardScaler\n",
    "from keras.utils import to_categorical\n",
    "from tensorflow import keras\n",
    "from tensorflow.keras import layers\n",
    "\n",
    "\n",
    "X = data['data']\n",
    "y = data['target'].reshape(-1, 1)\n",
    "y = to_categorical(y).astype('int') # 因為輸出的時候分成 [0, 1] 對應機率\n",
    "\n",
    "scaler = StandardScaler()\n",
    "X = scaler.fit_transform(X)\n",
    "\n",
    "X_train, X_test, y_train, y_test = train_test_split(X, y, test_size=0.2, random_state=42)\n",
    "\n",
    "model = keras.Sequential()\n",
    "model.add(layers.Input(shape=(X_train.shape[1],)))\n",
    "model.add(layers.Dense(64, activation='relu'))\n",
    "model.add(layers.Dense(32, activation='relu'))\n",
    "model.add(layers.Dense(10, activation='softmax'))  # 10分类问题，使用 softmax 激活函数\n",
    "model.compile(optimizer='adam', loss='categorical_crossentropy', metrics=['accuracy'])\n",
    "model.summary()\n",
    "# 训练模型\n",
    "history = model.fit(X_train, y_train, epochs=10, batch_size=16, verbose = 2, validation_data=(X_test, y_test))\n",
    "\n",
    "# 评估模型\n",
    "loss, accuracy = model.evaluate(X_test, y_test)\n",
    "print(f'测试集上的损失：{loss}')\n",
    "print(f'测试集上的准确率：{accuracy}')"
   ]
  },
  {
   "cell_type": "code",
   "execution_count": null,
   "metadata": {},
   "outputs": [],
   "source": [
    "print(history.history.keys())\n",
    "history.history['accuracy'][:3]"
   ]
  },
  {
   "cell_type": "code",
   "execution_count": null,
   "metadata": {},
   "outputs": [],
   "source": [
    "import matplotlib.pyplot as plt\n",
    "plt.figure(figsize=(12, 3))\n",
    "plt.plot(history.history['accuracy'], color = 'red')\n",
    "plt.plot(history.history['val_accuracy'], color = 'blue')\n",
    "plt.grid()\n",
    "plt.title('accuracy vs val_accuracy')\n",
    "plt.show()\n",
    "\n",
    "import matplotlib.pyplot as plt\n",
    "plt.figure(figsize=(12, 3))\n",
    "plt.plot(history.history['loss'], color = 'red')\n",
    "plt.plot(history.history['val_loss'], color = 'blue')\n",
    "plt.grid()\n",
    "plt.title('accuracy vs val_accuracy')\n",
    "plt.show()"
   ]
  },
  {
   "cell_type": "code",
   "execution_count": 7,
   "metadata": {},
   "outputs": [
    {
     "data": {
      "image/png": "[encoded data removed]",
      "text/plain": [
       "<Figure size 640x480 with 1 Axes>"
      ]
     },
     "metadata": {},
     "output_type": "display_data"
    },
    {
     "name": "stdout",
     "output_type": "stream",
     "text": [
      "(8, 8, 4)\n"
     ]
    }
   ],
   "source": [
    "# 怎樣辨識自己寫的數字\n",
    "test = plt.imread('./88.png')\n",
    "plt.imshow(test)\n",
    "plt.show()\n",
    "print(test.shape)"
   ]
  },
  {
   "cell_type": "code",
   "execution_count": null,
   "metadata": {},
   "outputs": [],
   "source": [
    "# 怎樣辨識自己寫的數字\n",
    "import matplotlib.pyplot as plt\n",
    "from skimage import util\n",
    "from skimage import data, color\n",
    "from skimage.transform import resize\n",
    "plt.figure(figsize=(1, 1))\n",
    "test = util.invert(resize( color.rgb2gray(plt.imread('./88.png')[:, :, :3]), (8, 8)  ,\n",
    "                   anti_aliasing=True))\n",
    "\n",
    "plt.imshow(test, cmap='gray')\n",
    "plt.show()\n",
    "print(test.shape)\n",
    "print(np.argmax(model.predict(test.reshape(1, 64))))"
   ]
  }
 ],
 "metadata": {
  "kernelspec": {
   "display_name": "base",
   "language": "python",
   "name": "python3"
  },
  "language_info": {
   "codemirror_mode": {
    "name": "ipython",
    "version": 3
   },
   "file_extension": ".py",
   "mimetype": "text/x-python",
   "name": "python",
   "nbconvert_exporter": "python",
   "pygments_lexer": "ipython3",
   "version": "3.9.13"
  },
  "orig_nbformat": 4
 },
 "nbformat": 4,
 "nbformat_minor": 2
}
