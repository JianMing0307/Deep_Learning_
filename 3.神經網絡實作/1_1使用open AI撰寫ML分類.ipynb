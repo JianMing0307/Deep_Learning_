{
 "cells": [
  {
   "cell_type": "markdown",
   "metadata": {},
   "source": [
    "# 提示工程"
   ]
  },
  {
   "cell_type": "markdown",
   "metadata": {},
   "source": []
  },
  {
   "cell_type": "markdown",
   "metadata": {},
   "source": []
  },
  {
   "cell_type": "markdown",
   "metadata": {},
   "source": [
    "# 你是一個ML專家，針對以下的數據撰寫機器學習的訓練模型，預測 Diabetic\n",
    "\n",
    "### PatientID,Pregnancies,PlasmaGlucose,DiastolicBloodPressure,TricepsThickness,SerumInsulin,BMI,DiabetesPedigree,Age,Diabetic\n",
    "### 1354778,0,171,80,34,23,43.50972593,1.213191354,21,0\n",
    "### 1147438,8,92,93,47,36,21.24057571,0.158364981,23,0\n",
    "### 1640031,7,115,47,52,35,41.51152348,0.079018568,23,0\n",
    "### 1883350,9,103,78,25,304,29.58219193,1.282869847,43,1\n",
    "### 1424119,1,85,59,27,35,42.60453585,0.549541871,22,0\n",
    "### 1619297,0,82,92,9,253,19.72416021,0.103424498,26,0\n",
    "### 1660149,0,133,47,19,227,21.94135672,0.174159779,21,0"
   ]
  },
  {
   "cell_type": "code",
   "execution_count": 1,
   "metadata": {},
   "outputs": [
    {
     "name": "stdout",
     "output_type": "stream",
     "text": [
      "Accuracy: 0.7876666666666666\n",
      "              precision    recall  f1-score   support\n",
      "\n",
      "           0       0.81      0.90      0.85      2014\n",
      "           1       0.73      0.56      0.64       986\n",
      "\n",
      "    accuracy                           0.79      3000\n",
      "   macro avg       0.77      0.73      0.74      3000\n",
      "weighted avg       0.78      0.79      0.78      3000\n",
      "\n"
     ]
    },
    {
     "name": "stderr",
     "output_type": "stream",
     "text": [
      "d:\\anaconda\\lib\\site-packages\\sklearn\\linear_model\\_logistic.py:814: ConvergenceWarning: lbfgs failed to converge (status=1):\n",
      "STOP: TOTAL NO. of ITERATIONS REACHED LIMIT.\n",
      "\n",
      "Increase the number of iterations (max_iter) or scale the data as shown in:\n",
      "    https://scikit-learn.org/stable/modules/preprocessing.html\n",
      "Please also refer to the documentation for alternative solver options:\n",
      "    https://scikit-learn.org/stable/modules/linear_model.html#logistic-regression\n",
      "  n_iter_i = _check_optimize_result(\n"
     ]
    }
   ],
   "source": [
    "import pandas as pd\n",
    "from sklearn.model_selection import train_test_split\n",
    "from sklearn.linear_model import LogisticRegression\n",
    "from sklearn.ensemble import ExtraTreesClassifier                    \n",
    "from sklearn.metrics import accuracy_score, classification_report\n",
    "\n",
    "# 读取数据\n",
    "data = pd.read_csv('diabetes.csv')\n",
    "\n",
    "# 数据预处理 z-score\n",
    "# 处理缺失值（如果有的话）\n",
    "\n",
    "# 特征选择\n",
    "X = data[['Pregnancies', 'PlasmaGlucose', 'DiastolicBloodPressure',\n",
    "          'TricepsThickness', 'SerumInsulin', 'BMI',\n",
    "          'DiabetesPedigree', 'Age']]\n",
    "y = data['Diabetic']\n",
    "\n",
    "# 数据拆分\n",
    "X_train, X_test, y_train, y_test = train_test_split(X, y,\n",
    "                                                    test_size=0.2,\n",
    "                                                    random_state=42)\n",
    "\n",
    "# 模型选择和训练\n",
    "model = LogisticRegression() # 0.7876666666666666\n",
    "# model = ExtraTreesClassifier() # 0.9336666666666666                                                           #調正module後scores增加\n",
    "model.fit(X_train, y_train)\n",
    "\n",
    "# 模型评估\n",
    "y_pred = model.predict(X_test)\n",
    "accuracy = accuracy_score(y_test, y_pred)\n",
    "print(\"Accuracy:\", accuracy)\n",
    "print(classification_report(y_test, y_pred))\n"
   ]
  }
 ],
 "metadata": {
  "kernelspec": {
   "display_name": "base",
   "language": "python",
   "name": "python3"
  },
  "language_info": {
   "codemirror_mode": {
    "name": "ipython",
    "version": 3
   },
   "file_extension": ".py",
   "mimetype": "text/x-python",
   "name": "python",
   "nbconvert_exporter": "python",
   "pygments_lexer": "ipython3",
   "version": "3.9.13"
  },
  "orig_nbformat": 4
 },
 "nbformat": 4,
 "nbformat_minor": 2
}
