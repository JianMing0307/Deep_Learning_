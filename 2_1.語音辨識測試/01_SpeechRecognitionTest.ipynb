{
 "cells": [
  {
   "cell_type": "markdown",
   "metadata": {},
   "source": [
    "### Note : 建議使用新版 python\n",
    "MAC:\n",
    "1. 須在終端機中先安裝 Homebrew：https://brew.sh/ (有點久)\n",
    "2. brew install portaudio\n",
    "\n"
   ]
  },
  {
   "cell_type": "code",
   "execution_count": null,
   "metadata": {},
   "outputs": [],
   "source": [
    "!pip3 install SpeechRecognition\n",
    "# 需先安裝 ipykernel\n",
    "# win 請改成：pip"
   ]
  },
  {
   "cell_type": "code",
   "execution_count": 1,
   "metadata": {},
   "outputs": [
    {
     "name": "stdout",
     "output_type": "stream",
     "text": [
      "Requirement already satisfied: pyaudio in /Users/elsawang/anaconda3/lib/python3.11/site-packages (0.2.14)\n"
     ]
    }
   ],
   "source": [
    "!pip3 install pyaudio\n",
    "# 須配合 python 版本在3.11以上 \n",
    "# cmd : conda install python=3.11."
   ]
  },
  {
   "cell_type": "code",
   "execution_count": null,
   "metadata": {},
   "outputs": [],
   "source": [
    "!pip3 install jieba"
   ]
  },
  {
   "cell_type": "code",
   "execution_count": 1,
   "metadata": {},
   "outputs": [],
   "source": [
    "import speech_recognition as sr\n"
   ]
  },
  {
   "cell_type": "code",
   "execution_count": 2,
   "metadata": {},
   "outputs": [
    {
     "name": "stdout",
     "output_type": "stream",
     "text": [
      "請開始說話：\n"
     ]
    }
   ],
   "source": [
    "# 錄音\n",
    "recognizer = sr.Recognizer()\n",
    "microphone = sr.Microphone()\n",
    "print(\"請開始說話：\")\n",
    "with microphone as source:\n",
    "    recognizer.adjust_for_ambient_noise(source)\n",
    "    audio = recognizer.listen(source)\n",
    "\n",
    "print(\"錄音結束，識別中...\")"
   ]
  },
  {
   "cell_type": "code",
   "execution_count": 3,
   "metadata": {},
   "outputs": [
    {
     "name": "stdout",
     "output_type": "stream",
     "text": [
      "說話吧天氣很好\n"
     ]
    }
   ],
   "source": [
    "# 語音辨識    \n",
    "try:\n",
    "    text=recognizer.recognize_google(audio, language='zh-tw')\n",
    "    print(text)\n",
    "except:\n",
    "    pass"
   ]
  },
  {
   "cell_type": "code",
   "execution_count": 4,
   "metadata": {},
   "outputs": [],
   "source": [
    "# 滙出結果 \n",
    "with open('result.txt',mode ='w') as file:  #----->mode改成'a'會保存之前輸出結果\n",
    "   file.write(text) \n",
    "   "
   ]
  },
  {
   "cell_type": "code",
   "execution_count": 6,
   "metadata": {},
   "outputs": [
    {
     "name": "stderr",
     "output_type": "stream",
     "text": [
      "Building prefix dict from /Users/elsawang/_PyIII_20231102二四/Ch03_NLP01_T/jieba繁體/dict.txt ...\n",
      "Loading model from cache /var/folders/2n/328p6qts2wn0bhrdj87s273c0000gn/T/jieba.u1dc212133475c568a81427e81f496083.cache\n",
      "Loading model cost 0.523 seconds.\n",
      "Prefix dict has been built successfully.\n"
     ]
    },
    {
     "name": "stdout",
     "output_type": "stream",
     "text": [
      "說話/吧/天氣/很/好\n"
     ]
    }
   ],
   "source": [
    "# jieba 分詞\n",
    "import jieba\n",
    "\n",
    "# 設定繁體 dict.txt\n",
    "jieba.set_dictionary('./jieba繁體/dict.txt')\n",
    "\n",
    "# 加詞\n",
    "jieba.add_word('五月天')\n",
    "\n",
    "seg_list = jieba.cut(text)\n",
    "print(\"/\".join(seg_list))"
   ]
  }
 ],
 "metadata": {
  "kernelspec": {
   "display_name": "base",
   "language": "python",
   "name": "python3"
  },
  "language_info": {
   "codemirror_mode": {
    "name": "ipython",
    "version": 3
   },
   "file_extension": ".py",
   "mimetype": "text/x-python",
   "name": "python",
   "nbconvert_exporter": "python",
   "pygments_lexer": "ipython3",
   "version": "3.9.13"
  }
 },
 "nbformat": 4,
 "nbformat_minor": 2
}
