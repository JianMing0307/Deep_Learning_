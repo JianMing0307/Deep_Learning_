{
 "cells": [
  {
   "cell_type": "code",
   "execution_count": 2,
   "metadata": {},
   "outputs": [
    {
     "data": {
      "application/vnd.jupyter.widget-view+json": {
       "model_id": "94c4dd05ebef445d804a20afee792305",
       "version_major": 2,
       "version_minor": 0
      },
      "text/plain": [
       "pytorch_model.bin:   0%|          | 0.00/425M [00:00<?, ?B/s]"
      ]
     },
     "metadata": {},
     "output_type": "display_data"
    },
    {
     "data": {
      "application/vnd.jupyter.widget-view+json": {
       "model_id": "e6570a1c269d464390cd3dc49eaa9c07",
       "version_major": 2,
       "version_minor": 0
      },
      "text/plain": [
       "tokenizer_config.json:   0%|          | 0.00/271 [00:00<?, ?B/s]"
      ]
     },
     "metadata": {},
     "output_type": "display_data"
    },
    {
     "data": {
      "application/vnd.jupyter.widget-view+json": {
       "model_id": "92939f4a14b44650a8af6ae9286967aa",
       "version_major": 2,
       "version_minor": 0
      },
      "text/plain": [
       "vocab.txt:   0%|          | 0.00/115k [00:00<?, ?B/s]"
      ]
     },
     "metadata": {},
     "output_type": "display_data"
    },
    {
     "data": {
      "application/vnd.jupyter.widget-view+json": {
       "model_id": "6b8cc4895db849d79d6674a8df7b9bc2",
       "version_major": 2,
       "version_minor": 0
      },
      "text/plain": [
       "special_tokens_map.json:   0%|          | 0.00/112 [00:00<?, ?B/s]"
      ]
     },
     "metadata": {},
     "output_type": "display_data"
    }
   ],
   "source": [
    "from transformers import pipeline\n",
    "\n",
    "generator = pipeline(\"text-generation\", model=\"uer/gpt2-chinese-poem\")\n"
   ]
  },
  {
   "cell_type": "code",
   "execution_count": 3,
   "metadata": {},
   "outputs": [
    {
     "name": "stderr",
     "output_type": "stream",
     "text": [
      "Setting `pad_token_id` to `eos_token_id`:50256 for open-end generation.\n"
     ]
    },
    {
     "name": "stdout",
     "output_type": "stream",
     "text": [
      "[{'generated_text': '[CLS] 萬 疊 春 山 積 雨 晴 ， 回 塘 波 绿 小 桥 平 。 不 知 昨 夜 蛙 争 水 ， 洗 得 君 王 战 鼓 声 。 人 太 忙 生'}, {'generated_text': '[CLS] 萬 疊 春 山 積 雨 晴 ， 寒 林 窣 夜 风 生 。 万 松 顶 接 苍 云 密 ， 一 线 穿 穿 白 练 平 。 万 户 炊 烟 横 屋 破'}]\n"
     ]
    }
   ],
   "source": [
    "\n",
    "results = generator(\n",
    "    \"[CLS] 萬 疊 春 山 積 雨 晴 ，\", \n",
    "    max_length=40,\n",
    "    num_return_sequences=2,\n",
    ") #----->[CLS代表開頭]\n",
    "print(results)"
   ]
  },
  {
   "cell_type": "code",
   "execution_count": 8,
   "metadata": {},
   "outputs": [
    {
     "name": "stderr",
     "output_type": "stream",
     "text": [
      "Setting `pad_token_id` to `eos_token_id`:50256 for open-end generation.\n"
     ]
    },
    {
     "name": "stdout",
     "output_type": "stream",
     "text": [
      "[{'generated_text': '[CLS] 白日依山盡 ， 寒 风 卷 冻 云 。 冰 肤 凝 鹤 骨 ， 玉 粟 带 龙 文 。 老 树 千 株 发 ， 惊 潮 万 里'}, {'generated_text': '[CLS] 白日依山盡 ， 青 春 藉 草 长 。 苔 留 鸟 篆 ， 石 磴 度 羊 肠 。 地 僻 人 稀 到 ， 庭 稀 花 自'}]\n"
     ]
    }
   ],
   "source": [
    "results2 = generator(\n",
    "    \"[CLS] 白日依山盡\",\n",
    "    max_length=35,\n",
    "    num_return_sequences=2,\n",
    ")\n",
    "print(results2)"
   ]
  }
 ],
 "metadata": {
  "kernelspec": {
   "display_name": "base",
   "language": "python",
   "name": "python3"
  },
  "language_info": {
   "codemirror_mode": {
    "name": "ipython",
    "version": 3
   },
   "file_extension": ".py",
   "mimetype": "text/x-python",
   "name": "python",
   "nbconvert_exporter": "python",
   "pygments_lexer": "ipython3",
   "version": "3.9.13"
  }
 },
 "nbformat": 4,
 "nbformat_minor": 2
}
