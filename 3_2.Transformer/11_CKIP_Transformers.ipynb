{
 "cells": [
  {
   "cell_type": "markdown",
   "metadata": {},
   "source": [
    "# [CKIP Transformers](https://ckip-transformers.readthedocs.io/en/latest/main/readme.html#)"
   ]
  },
  {
   "cell_type": "markdown",
   "metadata": {},
   "source": [
    "## 載入相關套件"
   ]
  },
  {
   "cell_type": "code",
   "execution_count": 1,
   "metadata": {},
   "outputs": [
    {
     "name": "stdout",
     "output_type": "stream",
     "text": [
      "Collecting ckip-transformers\n",
      "  Downloading ckip_transformers-0.3.4-py3-none-any.whl (26 kB)\n",
      "Requirement already satisfied: torch>=1.5.0 in d:\\anaconda\\lib\\site-packages (from ckip-transformers) (2.1.1)\n",
      "Requirement already satisfied: tqdm>=4.27 in d:\\anaconda\\lib\\site-packages (from ckip-transformers) (4.64.1)\n",
      "Requirement already satisfied: transformers>=3.5.0 in d:\\anaconda\\lib\\site-packages (from ckip-transformers) (4.36.2)\n",
      "Requirement already satisfied: filelock in d:\\anaconda\\lib\\site-packages (from torch>=1.5.0->ckip-transformers) (3.4.1)\n",
      "Requirement already satisfied: typing-extensions in d:\\anaconda\\lib\\site-packages (from torch>=1.5.0->ckip-transformers) (4.7.1)\n",
      "Requirement already satisfied: sympy in d:\\anaconda\\lib\\site-packages (from torch>=1.5.0->ckip-transformers) (1.10.1)\n",
      "Requirement already satisfied: networkx in d:\\anaconda\\lib\\site-packages (from torch>=1.5.0->ckip-transformers) (2.8.4)\n",
      "Requirement already satisfied: jinja2 in d:\\anaconda\\lib\\site-packages (from torch>=1.5.0->ckip-transformers) (2.11.3)\n",
      "Requirement already satisfied: fsspec in d:\\anaconda\\lib\\site-packages (from torch>=1.5.0->ckip-transformers) (2023.12.2)\n",
      "Requirement already satisfied: colorama in d:\\anaconda\\lib\\site-packages (from tqdm>=4.27->ckip-transformers) (0.4.6)\n",
      "Requirement already satisfied: huggingface-hub<1.0,>=0.19.3 in d:\\anaconda\\lib\\site-packages (from transformers>=3.5.0->ckip-transformers) (0.20.1)\n",
      "Requirement already satisfied: numpy>=1.17 in d:\\anaconda\\lib\\site-packages (from transformers>=3.5.0->ckip-transformers) (1.24.3)\n",
      "Requirement already satisfied: packaging>=20.0 in d:\\anaconda\\lib\\site-packages (from transformers>=3.5.0->ckip-transformers) (21.3)\n",
      "Requirement already satisfied: pyyaml>=5.1 in d:\\anaconda\\lib\\site-packages (from transformers>=3.5.0->ckip-transformers) (6.0)\n",
      "Requirement already satisfied: regex!=2019.12.17 in d:\\anaconda\\lib\\site-packages (from transformers>=3.5.0->ckip-transformers) (2022.7.9)\n",
      "Requirement already satisfied: requests in d:\\anaconda\\lib\\site-packages (from transformers>=3.5.0->ckip-transformers) (2.31.0)\n",
      "Requirement already satisfied: tokenizers<0.19,>=0.14 in d:\\anaconda\\lib\\site-packages (from transformers>=3.5.0->ckip-transformers) (0.15.0)\n",
      "Requirement already satisfied: safetensors>=0.3.1 in d:\\anaconda\\lib\\site-packages (from transformers>=3.5.0->ckip-transformers) (0.4.1)\n",
      "Requirement already satisfied: pyparsing!=3.0.5,>=2.0.2 in d:\\anaconda\\lib\\site-packages (from packaging>=20.0->transformers>=3.5.0->ckip-transformers) (3.0.9)\n",
      "Requirement already satisfied: MarkupSafe>=0.23 in d:\\anaconda\\lib\\site-packages (from jinja2->torch>=1.5.0->ckip-transformers) (2.0.1)\n",
      "Requirement already satisfied: charset-normalizer<4,>=2 in d:\\anaconda\\lib\\site-packages (from requests->transformers>=3.5.0->ckip-transformers) (2.0.4)\n",
      "Requirement already satisfied: idna<4,>=2.5 in d:\\anaconda\\lib\\site-packages (from requests->transformers>=3.5.0->ckip-transformers) (3.3)\n",
      "Requirement already satisfied: urllib3<3,>=1.21.1 in d:\\anaconda\\lib\\site-packages (from requests->transformers>=3.5.0->ckip-transformers) (1.26.11)\n",
      "Requirement already satisfied: certifi>=2017.4.17 in d:\\anaconda\\lib\\site-packages (from requests->transformers>=3.5.0->ckip-transformers) (2023.5.7)\n",
      "Requirement already satisfied: mpmath>=0.19 in d:\\anaconda\\lib\\site-packages (from sympy->torch>=1.5.0->ckip-transformers) (1.2.1)\n",
      "Installing collected packages: ckip-transformers\n",
      "Successfully installed ckip-transformers-0.3.4\n"
     ]
    },
    {
     "name": "stderr",
     "output_type": "stream",
     "text": [
      "WARNING: Ignoring invalid distribution -treamlit (d:\\anaconda\\lib\\site-packages)\n",
      "WARNING: Ignoring invalid distribution -treamlit (d:\\anaconda\\lib\\site-packages)\n",
      "\n",
      "[notice] A new release of pip is available: 23.3.1 -> 23.3.2\n",
      "[notice] To update, run: python.exe -m pip install --upgrade pip\n"
     ]
    }
   ],
   "source": [
    "!pip install -U ckip-transformers"
   ]
  },
  {
   "cell_type": "code",
   "execution_count": 2,
   "metadata": {},
   "outputs": [],
   "source": [
    "from ckip_transformers import __version__\n",
    "from ckip_transformers.nlp import CkipWordSegmenter, \\\n",
    "                        CkipPosTagger, CkipNerChunker\n",
    "import torch"
   ]
  },
  {
   "cell_type": "markdown",
   "metadata": {},
   "source": [
    "## 載入模型"
   ]
  },
  {
   "cell_type": "code",
   "execution_count": 4,
   "metadata": {},
   "outputs": [
    {
     "data": {
      "application/vnd.jupyter.widget-view+json": {
       "model_id": "6250e33e9f554620a5104dd628e2b079",
       "version_major": 2,
       "version_minor": 0
      },
      "text/plain": [
       "config.json:   0%|          | 0.00/804 [00:00<?, ?B/s]"
      ]
     },
     "metadata": {},
     "output_type": "display_data"
    },
    {
     "name": "stderr",
     "output_type": "stream",
     "text": [
      "d:\\anaconda\\lib\\site-packages\\huggingface_hub\\file_download.py:149: UserWarning: `huggingface_hub` cache-system uses symlinks by default to efficiently store duplicated files but your machine does not support them in C:\\Users\\user\\.cache\\huggingface\\hub\\models--ckiplab--bert-base-chinese-ws. Caching files will still work but in a degraded version that might require more space on your disk. This warning can be disabled by setting the `HF_HUB_DISABLE_SYMLINKS_WARNING` environment variable. For more details, see https://huggingface.co/docs/huggingface_hub/how-to-cache#limitations.\n",
      "To support symlinks on Windows, you either need to activate Developer Mode or to run Python as an administrator. In order to see activate developer mode, see this article: https://docs.microsoft.com/en-us/windows/apps/get-started/enable-your-device-for-development\n",
      "  warnings.warn(message)\n"
     ]
    },
    {
     "data": {
      "application/vnd.jupyter.widget-view+json": {
       "model_id": "8b768b534b6c4da8a1ae7b4ec4fe2e30",
       "version_major": 2,
       "version_minor": 0
      },
      "text/plain": [
       "pytorch_model.bin:   0%|          | 0.00/407M [00:00<?, ?B/s]"
      ]
     },
     "metadata": {},
     "output_type": "display_data"
    },
    {
     "data": {
      "application/vnd.jupyter.widget-view+json": {
       "model_id": "69b90c2512cc4e4ca59aedc9126f05bd",
       "version_major": 2,
       "version_minor": 0
      },
      "text/plain": [
       "tokenizer_config.json:   0%|          | 0.00/301 [00:00<?, ?B/s]"
      ]
     },
     "metadata": {},
     "output_type": "display_data"
    },
    {
     "data": {
      "application/vnd.jupyter.widget-view+json": {
       "model_id": "07d9dee226ed4003a182682b96448cf7",
       "version_major": 2,
       "version_minor": 0
      },
      "text/plain": [
       "vocab.txt:   0%|          | 0.00/110k [00:00<?, ?B/s]"
      ]
     },
     "metadata": {},
     "output_type": "display_data"
    },
    {
     "data": {
      "application/vnd.jupyter.widget-view+json": {
       "model_id": "3271b09874e84194bf0a4af47eb173fe",
       "version_major": 2,
       "version_minor": 0
      },
      "text/plain": [
       "special_tokens_map.json:   0%|          | 0.00/112 [00:00<?, ?B/s]"
      ]
     },
     "metadata": {},
     "output_type": "display_data"
    },
    {
     "data": {
      "application/vnd.jupyter.widget-view+json": {
       "model_id": "0e472d4631664a8b8d2b741cb10f1b22",
       "version_major": 2,
       "version_minor": 0
      },
      "text/plain": [
       "config.json:   0%|          | 0.00/2.86k [00:00<?, ?B/s]"
      ]
     },
     "metadata": {},
     "output_type": "display_data"
    },
    {
     "name": "stderr",
     "output_type": "stream",
     "text": [
      "d:\\anaconda\\lib\\site-packages\\huggingface_hub\\file_download.py:149: UserWarning: `huggingface_hub` cache-system uses symlinks by default to efficiently store duplicated files but your machine does not support them in C:\\Users\\user\\.cache\\huggingface\\hub\\models--ckiplab--bert-base-chinese-pos. Caching files will still work but in a degraded version that might require more space on your disk. This warning can be disabled by setting the `HF_HUB_DISABLE_SYMLINKS_WARNING` environment variable. For more details, see https://huggingface.co/docs/huggingface_hub/how-to-cache#limitations.\n",
      "To support symlinks on Windows, you either need to activate Developer Mode or to run Python as an administrator. In order to see activate developer mode, see this article: https://docs.microsoft.com/en-us/windows/apps/get-started/enable-your-device-for-development\n",
      "  warnings.warn(message)\n"
     ]
    },
    {
     "data": {
      "application/vnd.jupyter.widget-view+json": {
       "model_id": "c4ddeb1273154dfb834a63e0ad64ad01",
       "version_major": 2,
       "version_minor": 0
      },
      "text/plain": [
       "pytorch_model.bin:   0%|          | 0.00/407M [00:00<?, ?B/s]"
      ]
     },
     "metadata": {},
     "output_type": "display_data"
    },
    {
     "data": {
      "application/vnd.jupyter.widget-view+json": {
       "model_id": "578e9c95ab6640cca9c5cb10db3280cc",
       "version_major": 2,
       "version_minor": 0
      },
      "text/plain": [
       "tokenizer_config.json:   0%|          | 0.00/301 [00:00<?, ?B/s]"
      ]
     },
     "metadata": {},
     "output_type": "display_data"
    },
    {
     "data": {
      "application/vnd.jupyter.widget-view+json": {
       "model_id": "aa1afe6377994567bb7ee5d3b9f78619",
       "version_major": 2,
       "version_minor": 0
      },
      "text/plain": [
       "vocab.txt:   0%|          | 0.00/110k [00:00<?, ?B/s]"
      ]
     },
     "metadata": {},
     "output_type": "display_data"
    },
    {
     "data": {
      "application/vnd.jupyter.widget-view+json": {
       "model_id": "ed1b860912584e28abad62268652f1b0",
       "version_major": 2,
       "version_minor": 0
      },
      "text/plain": [
       "special_tokens_map.json:   0%|          | 0.00/112 [00:00<?, ?B/s]"
      ]
     },
     "metadata": {},
     "output_type": "display_data"
    },
    {
     "data": {
      "application/vnd.jupyter.widget-view+json": {
       "model_id": "925fe693ded245e89ac41faed421e4c3",
       "version_major": 2,
       "version_minor": 0
      },
      "text/plain": [
       "config.json:   0%|          | 0.00/3.71k [00:00<?, ?B/s]"
      ]
     },
     "metadata": {},
     "output_type": "display_data"
    },
    {
     "name": "stderr",
     "output_type": "stream",
     "text": [
      "d:\\anaconda\\lib\\site-packages\\huggingface_hub\\file_download.py:149: UserWarning: `huggingface_hub` cache-system uses symlinks by default to efficiently store duplicated files but your machine does not support them in C:\\Users\\user\\.cache\\huggingface\\hub\\models--ckiplab--bert-base-chinese-ner. Caching files will still work but in a degraded version that might require more space on your disk. This warning can be disabled by setting the `HF_HUB_DISABLE_SYMLINKS_WARNING` environment variable. For more details, see https://huggingface.co/docs/huggingface_hub/how-to-cache#limitations.\n",
      "To support symlinks on Windows, you either need to activate Developer Mode or to run Python as an administrator. In order to see activate developer mode, see this article: https://docs.microsoft.com/en-us/windows/apps/get-started/enable-your-device-for-development\n",
      "  warnings.warn(message)\n"
     ]
    },
    {
     "data": {
      "application/vnd.jupyter.widget-view+json": {
       "model_id": "ea0af09423964cc4bbe0688dc4cc1cae",
       "version_major": 2,
       "version_minor": 0
      },
      "text/plain": [
       "pytorch_model.bin:   0%|          | 0.00/407M [00:00<?, ?B/s]"
      ]
     },
     "metadata": {},
     "output_type": "display_data"
    },
    {
     "data": {
      "application/vnd.jupyter.widget-view+json": {
       "model_id": "ad8a0d23a95f43ad9dffcf71ca1b86d9",
       "version_major": 2,
       "version_minor": 0
      },
      "text/plain": [
       "tokenizer_config.json:   0%|          | 0.00/301 [00:00<?, ?B/s]"
      ]
     },
     "metadata": {},
     "output_type": "display_data"
    },
    {
     "data": {
      "application/vnd.jupyter.widget-view+json": {
       "model_id": "984debec06e042a881ecca5ca1893bbf",
       "version_major": 2,
       "version_minor": 0
      },
      "text/plain": [
       "vocab.txt:   0%|          | 0.00/110k [00:00<?, ?B/s]"
      ]
     },
     "metadata": {},
     "output_type": "display_data"
    },
    {
     "data": {
      "application/vnd.jupyter.widget-view+json": {
       "model_id": "23e30f38ea4941aba331faa52ce90399",
       "version_major": 2,
       "version_minor": 0
      },
      "text/plain": [
       "special_tokens_map.json:   0%|          | 0.00/112 [00:00<?, ?B/s]"
      ]
     },
     "metadata": {},
     "output_type": "display_data"
    }
   ],
   "source": [
    "# 指定 device 以使用 GPU，設為 -1 （預設值）代表不使用 GPU\n",
    "device = 0 if torch.cuda.is_available() else -1\n",
    "\n",
    "ws_driver = CkipWordSegmenter(device=device) # 分詞level=3\n",
    "pos_driver = CkipPosTagger(device=device)    # 詞性標記(POS)level=3 \n",
    "ner_driver = CkipNerChunker(device=device)   # 命名實體識別(NER)"
   ]
  },
  {
   "cell_type": "markdown",
   "metadata": {},
   "source": [
    "## 測試"
   ]
  },
  {
   "cell_type": "code",
   "execution_count": 3,
   "metadata": {},
   "outputs": [
    {
     "name": "stderr",
     "output_type": "stream",
     "text": [
      "Tokenization: 100%|██████████████████████████████████████████████████████████████████████████████| 2/2 [00:00<?, ?it/s]\n",
      "Inference: 100%|█████████████████████████████████████████████████████████████████████████| 1/1 [00:02<00:00,  2.80s/it]\n",
      "Tokenization: 100%|██████████████████████████████████████████████████████████████████████████████| 2/2 [00:00<?, ?it/s]\n",
      "Inference: 100%|█████████████████████████████████████████████████████████████████████████| 1/1 [00:00<00:00, 17.24it/s]\n",
      "Tokenization: 100%|████████████████████████████████████████████████████████████████████| 2/2 [00:00<00:00, 1994.91it/s]\n",
      "Inference: 100%|█████████████████████████████████████████████████████████████████████████| 1/1 [00:00<00:00, 25.64it/s]\n"
     ]
    }
   ],
   "source": [
    "text=['''\n",
    "便利商店除了提供微波食品，也有販賣烤地瓜。一位網友近日在社群網站分享，\n",
    "針對自己在3家超商食用烤地瓜後的看法，並以「甜度」作為評價標準，這則PO文引起許多網友討論。\n",
    "''',\n",
    "'''\n",
    "從俄羅斯2月24日入侵烏克蘭以來，到今日（4月5日）已有41天，\n",
    "烏克蘭澤倫斯基仍在烏克蘭境內領導軍民抵抗俄國侵略。澤倫斯基4日前往被俄軍大肆屠戮的城鎮布查\n",
    "，面色凝重地視察當地狀況，澤倫斯基的面貌也和俄國剛入侵時大有不同。''']\n",
    "\n",
    "ws  = ws_driver(text)\n",
    "pos = pos_driver(ws)\n",
    "ner = ner_driver(text)"
   ]
  },
  {
   "cell_type": "code",
   "execution_count": 4,
   "metadata": {
    "scrolled": false
   },
   "outputs": [
    {
     "name": "stdout",
     "output_type": "stream",
     "text": [
      "\n",
      "便利商店除了提供微波食品，也有販賣烤地瓜。一位網友近日在社群網站分享，\n",
      "針對自己在3家超商食用烤地瓜後的看法，並以「甜度」作為評價標準，這則PO文引起許多網友討論。\n",
      "\n",
      "\n",
      "(WHITESPACE)  便利商店(Nc)  除了(P)  提供(VD)  微波(Na)  食品(Na)  ，(COMMACATEGORY)  也(D)  有(V_2)  販賣(VD)  烤(VC)  地瓜(Na)  。(PERIODCATEGORY)  一(Neu)  位(Nf)  網友(Na)  近日(Nd)  在(P)  社群(Na)  網站(Nc)  分享(VJ)  ，(COMMACATEGORY)  \n",
      "(WHITESPACE)  針對(P)  自己(Nh)  在(P)  3(Neu)  家(Nf)  超商(Nc)  食用(VC)  烤(VC)  地瓜(Na)  後(Ng)  的(DE)  看法(Na)  ，(COMMACATEGORY)  並(Cbb)  以(P)  「(PARENTHESISCATEGORY)  甜度(Na)  」(PARENTHESISCATEGORY)  作為(VG)  評價(Na)  標準(Na)  ，(COMMACATEGORY)  這(Nep)  則(Nf)  PO文(FW)  引起(VC)  許多(Neqa)  網友(Na)  討論(VE)  。(PERIODCATEGORY)  \n",
      "(WHITESPACE)\n",
      "NerToken(word='一', ner='CARDINAL', idx=(22, 23))\n",
      "NerToken(word='3', ner='CARDINAL', idx=(42, 43))\n",
      "\n",
      "\n",
      "從俄羅斯2月24日入侵烏克蘭以來，到今日（4月5日）已有41天，\n",
      "烏克蘭澤倫斯基仍在烏克蘭境內領導軍民抵抗俄國侵略。澤倫斯基4日前往被俄軍大肆屠戮的城鎮布查\n",
      "，面色凝重地視察當地狀況，澤倫斯基的面貌也和俄國剛入侵時大有不同。\n",
      "\n",
      "(WHITESPACE)  從(P)  俄羅斯(Nc)  2月(Nd)  24日(Nd)  入侵(VCL)  烏克蘭(Nc)  以來(Ng)  ，(COMMACATEGORY)  到(P)  今日(Nd)  （(PARENTHESISCATEGORY)  4月(Nd)  5日(Nd)  ）(PARENTHESISCATEGORY)  已(D)  有(V_2)  41(Neu)  天(Nf)  ，(COMMACATEGORY)  \n",
      "(WHITESPACE)  烏克蘭(Nc)  澤倫斯基(Nb)  仍(D)  在(P)  烏克蘭(Nc)  境(Na)  內(Ncd)  領導(VC)  軍民(Na)  抵抗(VC)  俄國(Nc)  侵略(VC)  。(PERIODCATEGORY)  澤倫斯基(Nb)  4日(Nd)  前往(VCL)  被(P)  俄軍(Na)  大肆(D)  屠戮(VC)  的(DE)  城鎮(Nc)  布查\n",
      "(Nc)  ，(COMMACATEGORY)  面色(Na)  凝重(VH)  地(DE)  視察(VE)  當地(Nc)  狀況(Na)  ，(COMMACATEGORY)  澤倫斯基(Nb)  的(DE)  面貌(Na)  也(D)  和(P)  俄國(Nc)  剛(D)  入侵(VCL)  時(Ng)  大有(VJ)  不同(VH)  。(PERIODCATEGORY)\n",
      "NerToken(word='俄羅斯', ner='GPE', idx=(2, 5))\n",
      "NerToken(word='2月24日', ner='DATE', idx=(5, 10))\n",
      "NerToken(word='烏克蘭', ner='GPE', idx=(12, 15))\n",
      "NerToken(word='今日（4月5日）', ner='DATE', idx=(19, 27))\n",
      "NerToken(word='41天', ner='DATE', idx=(29, 32))\n",
      "NerToken(word='烏克蘭', ner='GPE', idx=(34, 37))\n",
      "NerToken(word='澤倫斯基', ner='PERSON', idx=(37, 41))\n",
      "NerToken(word='烏克蘭', ner='GPE', idx=(43, 46))\n",
      "NerToken(word='俄國', ner='GPE', idx=(54, 56))\n",
      "NerToken(word='澤倫斯基', ner='PERSON', idx=(59, 63))\n",
      "NerToken(word='4日', ner='DATE', idx=(63, 65))\n",
      "NerToken(word='俄軍', ner='ORG', idx=(68, 70))\n",
      "NerToken(word='布查\\n', ner='GPE', idx=(77, 80))\n",
      "NerToken(word='澤倫斯基', ner='PERSON', idx=(93, 97))\n",
      "NerToken(word='俄國', ner='GPE', idx=(102, 104))\n",
      "\n"
     ]
    }
   ],
   "source": [
    "# 顯示分詞、詞性標記結果\n",
    "def pack_ws_pos_sentece(sentence_ws, sentence_pos):\n",
    "    res = []\n",
    "    for word_ws, word_pos in zip(sentence_ws, sentence_pos):\n",
    "        res.append(f\"{word_ws}({word_pos})\")\n",
    "    return \"  \".join(res)\n",
    "\n",
    "# 顯示執行結果\n",
    "for sentence, sentence_ws, sentence_pos, sentence_ner in zip(text, ws, pos, ner):\n",
    "    print(sentence)\n",
    "    print(pack_ws_pos_sentece(sentence_ws, sentence_pos))\n",
    "    for entity in sentence_ner:\n",
    "        print(entity)\n",
    "    print()"
   ]
  },
  {
   "cell_type": "code",
   "execution_count": null,
   "metadata": {},
   "outputs": [],
   "source": []
  }
 ],
 "metadata": {
  "kernelspec": {
   "display_name": "Python 3 (ipykernel)",
   "language": "python",
   "name": "python3"
  },
  "language_info": {
   "codemirror_mode": {
    "name": "ipython",
    "version": 3
   },
   "file_extension": ".py",
   "mimetype": "text/x-python",
   "name": "python",
   "nbconvert_exporter": "python",
   "pygments_lexer": "ipython3",
   "version": "3.9.13"
  }
 },
 "nbformat": 4,
 "nbformat_minor": 4
}
