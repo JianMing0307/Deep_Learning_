{
 "cells": [
  {
   "cell_type": "code",
   "execution_count": 5,
   "metadata": {},
   "outputs": [],
   "source": [
    "import numpy as np \n",
    "import pandas as pd \n",
    "import matplotlib.pyplot as plt"
   ]
  },
  {
   "cell_type": "markdown",
   "metadata": {},
   "source": [
    "# 載DATA / 檢查DATA / 預處理\n"
   ]
  },
  {
   "cell_type": "code",
   "execution_count": 1,
   "metadata": {},
   "outputs": [
    {
     "data": {
      "text/plain": [
       "((60000, 28, 28), (60000,), (10000, 28, 28), (10000,))"
      ]
     },
     "execution_count": 1,
     "metadata": {},
     "output_type": "execute_result"
    }
   ],
   "source": [
    "from tensorflow.keras.datasets import fashion_mnist   #10分類\n",
    "\n",
    "(x_train_set, y_train_set), (x_test, y_test) = fashion_mnist.load_data()\n",
    "x_train_set.shape, y_train_set.shape, x_test.shape, y_test. shape"
   ]
  },
  {
   "cell_type": "code",
   "execution_count": 2,
   "metadata": {},
   "outputs": [
    {
     "name": "stdout",
     "output_type": "stream",
     "text": [
      "9\n",
      "[[  0   0   0   0   0   0   0   0   0   0   0   0   0   0   0   0   0   0\n",
      "    0   0   0   0   0   0   0   0   0   0]\n",
      " [  0   0   0   0   0   0   0   0   0   0   0   0   0   0   0   0   0   0\n",
      "    0   0   0   0   0   0   0   0   0   0]\n",
      " [  0   0   0   0   0   0   0   0   0   0   0   0   0   0   0   0   0   0\n",
      "    0   0   0   0   0   0   0   0   0   0]\n",
      " [  0   0   0   0   0   0   0   0   0   0   0   0   1   0   0  13  73   0\n",
      "    0   1   4   0   0   0   0   1   1   0]\n",
      " [  0   0   0   0   0   0   0   0   0   0   0   0   3   0  36 136 127  62\n",
      "   54   0   0   0   1   3   4   0   0   3]\n",
      " [  0   0   0   0   0   0   0   0   0   0   0   0   6   0 102 204 176 134\n",
      "  144 123  23   0   0   0   0  12  10   0]\n",
      " [  0   0   0   0   0   0   0   0   0   0   0   0   0   0 155 236 207 178\n",
      "  107 156 161 109  64  23  77 130  72  15]\n",
      " [  0   0   0   0   0   0   0   0   0   0   0   1   0  69 207 223 218 216\n",
      "  216 163 127 121 122 146 141  88 172  66]\n",
      " [  0   0   0   0   0   0   0   0   0   1   1   1   0 200 232 232 233 229\n",
      "  223 223 215 213 164 127 123 196 229   0]\n",
      " [  0   0   0   0   0   0   0   0   0   0   0   0   0 183 225 216 223 228\n",
      "  235 227 224 222 224 221 223 245 173   0]\n",
      " [  0   0   0   0   0   0   0   0   0   0   0   0   0 193 228 218 213 198\n",
      "  180 212 210 211 213 223 220 243 202   0]\n",
      " [  0   0   0   0   0   0   0   0   0   1   3   0  12 219 220 212 218 192\n",
      "  169 227 208 218 224 212 226 197 209  52]\n",
      " [  0   0   0   0   0   0   0   0   0   0   6   0  99 244 222 220 218 203\n",
      "  198 221 215 213 222 220 245 119 167  56]\n",
      " [  0   0   0   0   0   0   0   0   0   4   0   0  55 236 228 230 228 240\n",
      "  232 213 218 223 234 217 217 209  92   0]\n",
      " [  0   0   1   4   6   7   2   0   0   0   0   0 237 226 217 223 222 219\n",
      "  222 221 216 223 229 215 218 255  77   0]\n",
      " [  0   3   0   0   0   0   0   0   0  62 145 204 228 207 213 221 218 208\n",
      "  211 218 224 223 219 215 224 244 159   0]\n",
      " [  0   0   0   0  18  44  82 107 189 228 220 222 217 226 200 205 211 230\n",
      "  224 234 176 188 250 248 233 238 215   0]\n",
      " [  0  57 187 208 224 221 224 208 204 214 208 209 200 159 245 193 206 223\n",
      "  255 255 221 234 221 211 220 232 246   0]\n",
      " [  3 202 228 224 221 211 211 214 205 205 205 220 240  80 150 255 229 221\n",
      "  188 154 191 210 204 209 222 228 225   0]\n",
      " [ 98 233 198 210 222 229 229 234 249 220 194 215 217 241  65  73 106 117\n",
      "  168 219 221 215 217 223 223 224 229  29]\n",
      " [ 75 204 212 204 193 205 211 225 216 185 197 206 198 213 240 195 227 245\n",
      "  239 223 218 212 209 222 220 221 230  67]\n",
      " [ 48 203 183 194 213 197 185 190 194 192 202 214 219 221 220 236 225 216\n",
      "  199 206 186 181 177 172 181 205 206 115]\n",
      " [  0 122 219 193 179 171 183 196 204 210 213 207 211 210 200 196 194 191\n",
      "  195 191 198 192 176 156 167 177 210  92]\n",
      " [  0   0  74 189 212 191 175 172 175 181 185 188 189 188 193 198 204 209\n",
      "  210 210 211 188 188 194 192 216 170   0]\n",
      " [  2   0   0   0  66 200 222 237 239 242 246 243 244 221 220 193 191 179\n",
      "  182 182 181 176 166 168  99  58   0   0]\n",
      " [  0   0   0   0   0   0   0  40  61  44  72  41  35   0   0   0   0   0\n",
      "    0   0   0   0   0   0   0   0   0   0]\n",
      " [  0   0   0   0   0   0   0   0   0   0   0   0   0   0   0   0   0   0\n",
      "    0   0   0   0   0   0   0   0   0   0]\n",
      " [  0   0   0   0   0   0   0   0   0   0   0   0   0   0   0   0   0   0\n",
      "    0   0   0   0   0   0   0   0   0   0]]\n"
     ]
    }
   ],
   "source": [
    "print(y_train_set[0])\n",
    "print(x_train_set[0])"
   ]
  },
  {
   "cell_type": "code",
   "execution_count": 8,
   "metadata": {},
   "outputs": [
    {
     "name": "stdout",
     "output_type": "stream",
     "text": [
      "9\n"
     ]
    },
    {
     "data": {
      "image/png": "[encoded data removed]",
      "text/plain": [
       "<Figure size 640x480 with 1 Axes>"
      ]
     },
     "metadata": {},
     "output_type": "display_data"
    }
   ],
   "source": [
    "i = 0\n",
    "print(y_train_set [i])\n",
    "plt.imshow(x_train_set[i], cmap='binary')   #data經過轉換\n",
    "plt.show()"
   ]
  },
  {
   "cell_type": "code",
   "execution_count": 10,
   "metadata": {},
   "outputs": [],
   "source": [
    "# Split data\n",
    "from sklearn.model_selection import train_test_split\n",
    "\n",
    "x_train, x_valid, y_train, y_valid = train_test_split(x_train_set, \n",
    "                                                      y_train_set, \n",
    "                                                      random_state=1)"
   ]
  },
  {
   "cell_type": "code",
   "execution_count": 11,
   "metadata": {},
   "outputs": [
    {
     "data": {
      "text/plain": [
       "((45000, 28, 28), (15000, 28, 28))"
      ]
     },
     "execution_count": 11,
     "metadata": {},
     "output_type": "execute_result"
    }
   ],
   "source": [
    "x_train.shape, x_valid.shape"
   ]
  },
  {
   "cell_type": "code",
   "execution_count": 12,
   "metadata": {},
   "outputs": [
    {
     "name": "stdout",
     "output_type": "stream",
     "text": [
      "[[  0   0   0   0   0   0   1   0   0   0   0  63   0   0   0   0   0  22\n",
      "   10   0   0   0   3   0   0   0   0   0]\n",
      " [  0   0   0   1   0   1   0   0   0 113 226 247 216 185 147 146 207 235\n",
      "  210 136  15   0   0   2   0   0   0   0]\n",
      " [  0   0   0   0   2   0   0 138 221 234 222 218 243 255 255 255 255 223\n",
      "  218 235 223 172   0   0   4   0   0   0]\n",
      " [  0   0   0   2   0   0 205 239 215 212 214 206 213 216 220 220 216 213\n",
      "  218 214 212 239 213   0   0   0   0   0]\n",
      " [  0   0   0   0   0 163 236 208 215 216 217 215 215 215 209 212 215 215\n",
      "  215 219 218 206 234 100   0   0   0   0]\n",
      " [  0   0   0   0  47 234 215 215 215 215 214 214 215 214 215 216 216 215\n",
      "  215 215 217 215 223 232   0   0   0   0]\n",
      " [  0   0   0   0 189 231 222 214 214 215 215 215 215 215 214 215 216 216\n",
      "  216 218 217 218 219 238  78   0   0   0]\n",
      " [  0   0   0   0 217 216 229 225 215 216 214 215 215 214 214 215 215 216\n",
      "  217 218 217 221 225 230 194   0   0   0]\n",
      " [  0   0   0 130 235 209 225 233 211 214 216 216 217 216 214 215 215 216\n",
      "  218 219 212 226 221 221 208   0   0   0]\n",
      " [  0   0   0 159 208 231 246 254 222 212 224 218 217 219 219 219 218 218\n",
      "  221 217 219 253 242 237 240  61   0   0]\n",
      " [  0   0   0   0   0  49 150 226 244 207 225 219 217 218 219 219 218 219\n",
      "  223 212 241 229 165 119  67   0   0   0]\n",
      " [  0   0   0   0   0   0   0   0 220 225 218 216 217 218 218 218 217 218\n",
      "  224 203 255  42   0   0   0   0   0   0]\n",
      " [  0   0   0   0   2   3   0   0 206 222 213 218 214 218 217 217 219 216\n",
      "  222 209 255  69   0   5   5   2   0   0]\n",
      " [  0   0   0   0   0   0   0   0 207 222 214 217 215 217 217 217 218 218\n",
      "  223 209 227  55   0   3   0   0   0   0]\n",
      " [  0   0   0   0   0   1   0   0 214 220 217 215 219 215 217 217 219 217\n",
      "  221 210 219  35   0   5   0   0   0   0]\n",
      " [  0   0   0   0   0   1   0   0 218 220 217 213 221 214 217 217 219 215\n",
      "  219 212 215  22   0   4   0   0   0   0]\n",
      " [  0   0   0   0   0   1   0   0 218 224 214 213 219 216 219 219 220 218\n",
      "  218 212 217  30   0   4   0   0   0   0]\n",
      " [  0   0   0   0   0   1   0   0 210 227 212 215 219 217 218 218 220 216\n",
      "  214 213 218  30   0   5   0   0   0   0]\n",
      " [  0   0   0   0   0   1   0   0 214 228 210 218 218 217 218 219 218 222\n",
      "  224 209 217  34   0   6   0   0   0   0]\n",
      " [  0   0   0   0   0   0   0   0 226 225 207 219 218 218 218 219 218 218\n",
      "  233 209 221  42   0   6   0   0   0   0]\n",
      " [  0   0   0   0   0   0   0   0 229 222 206 219 219 219 217 218 220 216\n",
      "  232 215 222  49   0   7   0   0   0   0]\n",
      " [  0   0   0   0   0   1   0   0 225 220 210 220 219 219 218 219 221 218\n",
      "  221 220 222  49   0   7   0   0   0   0]\n",
      " [  0   0   0   0   0   1   0   0 228 217 212 222 219 219 219 220 221 220\n",
      "  215 219 225  28   0   6   0   0   0   0]\n",
      " [  0   0   0   0   0   1   0   0 236 215 216 220 219 220 220 219 222 222\n",
      "  219 215 227  85   0   7   0   0   0   0]\n",
      " [  0   0   0   0   0   1   0   0 194 216 217 218 219 220 219 218 221 221\n",
      "  223 215 227 129   0   5   0   0   0   0]\n",
      " [  0   0   0   0   0   1   0   0 190 214 215 212 213 213 212 212 214 217\n",
      "  216 213 217   0   0   5   0   0   0   0]\n",
      " [  0   0   0   0   0   2   0   0 211 230 228 252 252 252 250 250 252 255\n",
      "  253 225 238  56   0   6   0   0   0   0]\n",
      " [  0   0   0   0   0   1   0   0 110 109 121 126 133 132 130 130 130 129\n",
      "  129 129 160  18   0   4   0   0   0   0]]\n",
      "----------------------------------------\n",
      "[[0.         0.         0.         0.         0.         0.\n",
      "  0.00392157 0.         0.         0.         0.         0.24705882\n",
      "  0.         0.         0.         0.         0.         0.08627451\n",
      "  0.03921569 0.         0.         0.         0.01176471 0.\n",
      "  0.         0.         0.         0.        ]\n",
      " [0.         0.         0.         0.00392157 0.         0.00392157\n",
      "  0.         0.         0.         0.44313725 0.88627451 0.96862745\n",
      "  0.84705882 0.7254902  0.57647059 0.57254902 0.81176471 0.92156863\n",
      "  0.82352941 0.53333333 0.05882353 0.         0.         0.00784314\n",
      "  0.         0.         0.         0.        ]\n",
      " [0.         0.         0.         0.         0.00784314 0.\n",
      "  0.         0.54117647 0.86666667 0.91764706 0.87058824 0.85490196\n",
      "  0.95294118 1.         1.         1.         1.         0.8745098\n",
      "  0.85490196 0.92156863 0.8745098  0.6745098  0.         0.\n",
      "  0.01568627 0.         0.         0.        ]\n",
      " [0.         0.         0.         0.00784314 0.         0.\n",
      "  0.80392157 0.9372549  0.84313725 0.83137255 0.83921569 0.80784314\n",
      "  0.83529412 0.84705882 0.8627451  0.8627451  0.84705882 0.83529412\n",
      "  0.85490196 0.83921569 0.83137255 0.9372549  0.83529412 0.\n",
      "  0.         0.         0.         0.        ]\n",
      " [0.         0.         0.         0.         0.         0.63921569\n",
      "  0.9254902  0.81568627 0.84313725 0.84705882 0.85098039 0.84313725\n",
      "  0.84313725 0.84313725 0.81960784 0.83137255 0.84313725 0.84313725\n",
      "  0.84313725 0.85882353 0.85490196 0.80784314 0.91764706 0.39215686\n",
      "  0.         0.         0.         0.        ]\n",
      " [0.         0.         0.         0.         0.18431373 0.91764706\n",
      "  0.84313725 0.84313725 0.84313725 0.84313725 0.83921569 0.83921569\n",
      "  0.84313725 0.83921569 0.84313725 0.84705882 0.84705882 0.84313725\n",
      "  0.84313725 0.84313725 0.85098039 0.84313725 0.8745098  0.90980392\n",
      "  0.         0.         0.         0.        ]\n",
      " [0.         0.         0.         0.         0.74117647 0.90588235\n",
      "  0.87058824 0.83921569 0.83921569 0.84313725 0.84313725 0.84313725\n",
      "  0.84313725 0.84313725 0.83921569 0.84313725 0.84705882 0.84705882\n",
      "  0.84705882 0.85490196 0.85098039 0.85490196 0.85882353 0.93333333\n",
      "  0.30588235 0.         0.         0.        ]\n",
      " [0.         0.         0.         0.         0.85098039 0.84705882\n",
      "  0.89803922 0.88235294 0.84313725 0.84705882 0.83921569 0.84313725\n",
      "  0.84313725 0.83921569 0.83921569 0.84313725 0.84313725 0.84705882\n",
      "  0.85098039 0.85490196 0.85098039 0.86666667 0.88235294 0.90196078\n",
      "  0.76078431 0.         0.         0.        ]\n",
      " [0.         0.         0.         0.50980392 0.92156863 0.81960784\n",
      "  0.88235294 0.91372549 0.82745098 0.83921569 0.84705882 0.84705882\n",
      "  0.85098039 0.84705882 0.83921569 0.84313725 0.84313725 0.84705882\n",
      "  0.85490196 0.85882353 0.83137255 0.88627451 0.86666667 0.86666667\n",
      "  0.81568627 0.         0.         0.        ]\n",
      " [0.         0.         0.         0.62352941 0.81568627 0.90588235\n",
      "  0.96470588 0.99607843 0.87058824 0.83137255 0.87843137 0.85490196\n",
      "  0.85098039 0.85882353 0.85882353 0.85882353 0.85490196 0.85490196\n",
      "  0.86666667 0.85098039 0.85882353 0.99215686 0.94901961 0.92941176\n",
      "  0.94117647 0.23921569 0.         0.        ]\n",
      " [0.         0.         0.         0.         0.         0.19215686\n",
      "  0.58823529 0.88627451 0.95686275 0.81176471 0.88235294 0.85882353\n",
      "  0.85098039 0.85490196 0.85882353 0.85882353 0.85490196 0.85882353\n",
      "  0.8745098  0.83137255 0.94509804 0.89803922 0.64705882 0.46666667\n",
      "  0.2627451  0.         0.         0.        ]\n",
      " [0.         0.         0.         0.         0.         0.\n",
      "  0.         0.         0.8627451  0.88235294 0.85490196 0.84705882\n",
      "  0.85098039 0.85490196 0.85490196 0.85490196 0.85098039 0.85490196\n",
      "  0.87843137 0.79607843 1.         0.16470588 0.         0.\n",
      "  0.         0.         0.         0.        ]\n",
      " [0.         0.         0.         0.         0.00784314 0.01176471\n",
      "  0.         0.         0.80784314 0.87058824 0.83529412 0.85490196\n",
      "  0.83921569 0.85490196 0.85098039 0.85098039 0.85882353 0.84705882\n",
      "  0.87058824 0.81960784 1.         0.27058824 0.         0.01960784\n",
      "  0.01960784 0.00784314 0.         0.        ]\n",
      " [0.         0.         0.         0.         0.         0.\n",
      "  0.         0.         0.81176471 0.87058824 0.83921569 0.85098039\n",
      "  0.84313725 0.85098039 0.85098039 0.85098039 0.85490196 0.85490196\n",
      "  0.8745098  0.81960784 0.89019608 0.21568627 0.         0.01176471\n",
      "  0.         0.         0.         0.        ]\n",
      " [0.         0.         0.         0.         0.         0.00392157\n",
      "  0.         0.         0.83921569 0.8627451  0.85098039 0.84313725\n",
      "  0.85882353 0.84313725 0.85098039 0.85098039 0.85882353 0.85098039\n",
      "  0.86666667 0.82352941 0.85882353 0.1372549  0.         0.01960784\n",
      "  0.         0.         0.         0.        ]\n",
      " [0.         0.         0.         0.         0.         0.00392157\n",
      "  0.         0.         0.85490196 0.8627451  0.85098039 0.83529412\n",
      "  0.86666667 0.83921569 0.85098039 0.85098039 0.85882353 0.84313725\n",
      "  0.85882353 0.83137255 0.84313725 0.08627451 0.         0.01568627\n",
      "  0.         0.         0.         0.        ]\n",
      " [0.         0.         0.         0.         0.         0.00392157\n",
      "  0.         0.         0.85490196 0.87843137 0.83921569 0.83529412\n",
      "  0.85882353 0.84705882 0.85882353 0.85882353 0.8627451  0.85490196\n",
      "  0.85490196 0.83137255 0.85098039 0.11764706 0.         0.01568627\n",
      "  0.         0.         0.         0.        ]\n",
      " [0.         0.         0.         0.         0.         0.00392157\n",
      "  0.         0.         0.82352941 0.89019608 0.83137255 0.84313725\n",
      "  0.85882353 0.85098039 0.85490196 0.85490196 0.8627451  0.84705882\n",
      "  0.83921569 0.83529412 0.85490196 0.11764706 0.         0.01960784\n",
      "  0.         0.         0.         0.        ]\n",
      " [0.         0.         0.         0.         0.         0.00392157\n",
      "  0.         0.         0.83921569 0.89411765 0.82352941 0.85490196\n",
      "  0.85490196 0.85098039 0.85490196 0.85882353 0.85490196 0.87058824\n",
      "  0.87843137 0.81960784 0.85098039 0.13333333 0.         0.02352941\n",
      "  0.         0.         0.         0.        ]\n",
      " [0.         0.         0.         0.         0.         0.\n",
      "  0.         0.         0.88627451 0.88235294 0.81176471 0.85882353\n",
      "  0.85490196 0.85490196 0.85490196 0.85882353 0.85490196 0.85490196\n",
      "  0.91372549 0.81960784 0.86666667 0.16470588 0.         0.02352941\n",
      "  0.         0.         0.         0.        ]\n",
      " [0.         0.         0.         0.         0.         0.\n",
      "  0.         0.         0.89803922 0.87058824 0.80784314 0.85882353\n",
      "  0.85882353 0.85882353 0.85098039 0.85490196 0.8627451  0.84705882\n",
      "  0.90980392 0.84313725 0.87058824 0.19215686 0.         0.02745098\n",
      "  0.         0.         0.         0.        ]\n",
      " [0.         0.         0.         0.         0.         0.00392157\n",
      "  0.         0.         0.88235294 0.8627451  0.82352941 0.8627451\n",
      "  0.85882353 0.85882353 0.85490196 0.85882353 0.86666667 0.85490196\n",
      "  0.86666667 0.8627451  0.87058824 0.19215686 0.         0.02745098\n",
      "  0.         0.         0.         0.        ]\n",
      " [0.         0.         0.         0.         0.         0.00392157\n",
      "  0.         0.         0.89411765 0.85098039 0.83137255 0.87058824\n",
      "  0.85882353 0.85882353 0.85882353 0.8627451  0.86666667 0.8627451\n",
      "  0.84313725 0.85882353 0.88235294 0.10980392 0.         0.02352941\n",
      "  0.         0.         0.         0.        ]\n",
      " [0.         0.         0.         0.         0.         0.00392157\n",
      "  0.         0.         0.9254902  0.84313725 0.84705882 0.8627451\n",
      "  0.85882353 0.8627451  0.8627451  0.85882353 0.87058824 0.87058824\n",
      "  0.85882353 0.84313725 0.89019608 0.33333333 0.         0.02745098\n",
      "  0.         0.         0.         0.        ]\n",
      " [0.         0.         0.         0.         0.         0.00392157\n",
      "  0.         0.         0.76078431 0.84705882 0.85098039 0.85490196\n",
      "  0.85882353 0.8627451  0.85882353 0.85490196 0.86666667 0.86666667\n",
      "  0.8745098  0.84313725 0.89019608 0.50588235 0.         0.01960784\n",
      "  0.         0.         0.         0.        ]\n",
      " [0.         0.         0.         0.         0.         0.00392157\n",
      "  0.         0.         0.74509804 0.83921569 0.84313725 0.83137255\n",
      "  0.83529412 0.83529412 0.83137255 0.83137255 0.83921569 0.85098039\n",
      "  0.84705882 0.83529412 0.85098039 0.         0.         0.01960784\n",
      "  0.         0.         0.         0.        ]\n",
      " [0.         0.         0.         0.         0.         0.00784314\n",
      "  0.         0.         0.82745098 0.90196078 0.89411765 0.98823529\n",
      "  0.98823529 0.98823529 0.98039216 0.98039216 0.98823529 1.\n",
      "  0.99215686 0.88235294 0.93333333 0.21960784 0.         0.02352941\n",
      "  0.         0.         0.         0.        ]\n",
      " [0.         0.         0.         0.         0.         0.00392157\n",
      "  0.         0.         0.43137255 0.42745098 0.4745098  0.49411765\n",
      "  0.52156863 0.51764706 0.50980392 0.50980392 0.50980392 0.50588235\n",
      "  0.50588235 0.50588235 0.62745098 0.07058824 0.         0.01568627\n",
      "  0.         0.         0.         0.        ]]\n"
     ]
    }
   ],
   "source": [
    "print(x_train[0])\n",
    "print(\"----------------------------------------\")\n",
    "x_train2 = x_train / 255.0\n",
    "print(x_train2[0])"
   ]
  },
  {
   "cell_type": "code",
   "execution_count": 13,
   "metadata": {},
   "outputs": [
    {
     "name": "stdout",
     "output_type": "stream",
     "text": [
      "(45000, 28, 28) (15000, 28, 28) (10000, 28, 28)\n"
     ]
    }
   ],
   "source": [
    "# Preprocessing\n",
    "x_train = x_train / 255.0\n",
    "x_valid =x_valid / 255.0\n",
    "x_test = x_test / 255.0\n",
    "print(x_train.shape, x_valid.shape, x_test.shape)"
   ]
  },
  {
   "cell_type": "markdown",
   "metadata": {},
   "source": [
    "# Build model"
   ]
  },
  {
   "cell_type": "code",
   "execution_count": 14,
   "metadata": {},
   "outputs": [],
   "source": [
    "# Build Model\n",
    "import tensorflow as tf \n",
    "from tensorflow import keras \n",
    "from tensorflow.keras.models import Sequential \n",
    "from tensorflow.keras.layers import Flatten, Dense"
   ]
  },
  {
   "cell_type": "code",
   "execution_count": 15,
   "metadata": {},
   "outputs": [],
   "source": [
    "keras.backend.clear_session() #----------------->清空暫存\n",
    "np. random. seed (1)\n",
    "tf.random.set_seed(1)"
   ]
  },
  {
   "cell_type": "markdown",
   "metadata": {},
   "source": [
    "## step 1 : model"
   ]
  },
  {
   "cell_type": "code",
   "execution_count": 36,
   "metadata": {},
   "outputs": [],
   "source": [
    "model = Sequential([\n",
    "    Flatten(input_shape=x_train.shape[1:]), #--------->預設沒有bias  \n",
    "    #輸出層：10類別，10個神經元\n",
    "    Dense (units=10, activation='softmax')   #-------->透過softmax轉出10個神經元\n",
    "])"
   ]
  },
  {
   "cell_type": "code",
   "execution_count": 37,
   "metadata": {},
   "outputs": [
    {
     "name": "stdout",
     "output_type": "stream",
     "text": [
      "Model: \"sequential\"\n",
      "_________________________________________________________________\n",
      " Layer (type)                Output Shape              Param #   \n",
      "=================================================================\n",
      " flatten (Flatten)           (None, 784)               0         \n",
      "                                                                 \n",
      " dense (Dense)               (None, 10)                7850      \n",
      "                                                                 \n",
      "=================================================================\n",
      "Total params: 7850 (30.66 KB)\n",
      "Trainable params: 7850 (30.66 KB)\n",
      "Non-trainable params: 0 (0.00 Byte)\n",
      "_________________________________________________________________\n"
     ]
    }
   ],
   "source": [
    "model.summary()"
   ]
  },
  {
   "cell_type": "markdown",
   "metadata": {},
   "source": [
    "## step2 : 設model 參數----->compile"
   ]
  },
  {
   "cell_type": "code",
   "execution_count": 38,
   "metadata": {},
   "outputs": [],
   "source": [
    "# Compile\n",
    "model. compile(loss='sparse_categorical_crossentropy', \n",
    "               optimizer='sgd', \n",
    "               metrics= ['accuracy'])"
   ]
  },
  {
   "cell_type": "markdown",
   "metadata": {},
   "source": [
    "## step3 : train model"
   ]
  },
  {
   "cell_type": "code",
   "execution_count": 39,
   "metadata": {},
   "outputs": [
    {
     "name": "stdout",
     "output_type": "stream",
     "text": [
      "Epoch 1/20\n",
      "1407/1407 [==============================] - 2s 1ms/step - loss: 0.8739 - accuracy: 0.7254 - val_loss: 0.6807 - val_accuracy: 0.7805\n",
      "Epoch 2/20\n",
      "1407/1407 [==============================] - 2s 1ms/step - loss: 0.6235 - accuracy: 0.7970 - val_loss: 0.5925 - val_accuracy: 0.8077\n",
      "Epoch 3/20\n",
      "1407/1407 [==============================] - 2s 1ms/step - loss: 0.5685 - accuracy: 0.8146 - val_loss: 0.5594 - val_accuracy: 0.8139\n",
      "Epoch 4/20\n",
      "1407/1407 [==============================] - 2s 1ms/step - loss: 0.5383 - accuracy: 0.8235 - val_loss: 0.5314 - val_accuracy: 0.8257\n",
      "Epoch 5/20\n",
      "1407/1407 [==============================] - 2s 1ms/step - loss: 0.5185 - accuracy: 0.8286 - val_loss: 0.5346 - val_accuracy: 0.8136\n",
      "Epoch 6/20\n",
      "1407/1407 [==============================] - 2s 1ms/step - loss: 0.5038 - accuracy: 0.8334 - val_loss: 0.5071 - val_accuracy: 0.8293\n",
      "Epoch 7/20\n",
      "1407/1407 [==============================] - 2s 1ms/step - loss: 0.4922 - accuracy: 0.8351 - val_loss: 0.4953 - val_accuracy: 0.8310\n",
      "Epoch 8/20\n",
      "1407/1407 [==============================] - 2s 1ms/step - loss: 0.4843 - accuracy: 0.8384 - val_loss: 0.4871 - val_accuracy: 0.8356\n",
      "Epoch 9/20\n",
      "1407/1407 [==============================] - 2s 1ms/step - loss: 0.4765 - accuracy: 0.8399 - val_loss: 0.4787 - val_accuracy: 0.8373\n",
      "Epoch 10/20\n",
      "1407/1407 [==============================] - 2s 1ms/step - loss: 0.4704 - accuracy: 0.8422 - val_loss: 0.4820 - val_accuracy: 0.8387\n",
      "Epoch 11/20\n",
      "1407/1407 [==============================] - 2s 1ms/step - loss: 0.4649 - accuracy: 0.8437 - val_loss: 0.4672 - val_accuracy: 0.8413\n",
      "Epoch 12/20\n",
      "1407/1407 [==============================] - 2s 1ms/step - loss: 0.4603 - accuracy: 0.8456 - val_loss: 0.4690 - val_accuracy: 0.8382\n",
      "Epoch 13/20\n",
      "1407/1407 [==============================] - 2s 1ms/step - loss: 0.4562 - accuracy: 0.8464 - val_loss: 0.4608 - val_accuracy: 0.8417\n",
      "Epoch 14/20\n",
      "1407/1407 [==============================] - 2s 1ms/step - loss: 0.4519 - accuracy: 0.8479 - val_loss: 0.4602 - val_accuracy: 0.8425\n",
      "Epoch 15/20\n",
      "1407/1407 [==============================] - 2s 1ms/step - loss: 0.4492 - accuracy: 0.8485 - val_loss: 0.4547 - val_accuracy: 0.8445\n",
      "Epoch 16/20\n",
      "1407/1407 [==============================] - 2s 1ms/step - loss: 0.4458 - accuracy: 0.8499 - val_loss: 0.4555 - val_accuracy: 0.8409\n",
      "Epoch 17/20\n",
      "1407/1407 [==============================] - 2s 1ms/step - loss: 0.4433 - accuracy: 0.8514 - val_loss: 0.4560 - val_accuracy: 0.8453\n",
      "Epoch 18/20\n",
      "1407/1407 [==============================] - 2s 1ms/step - loss: 0.4399 - accuracy: 0.8511 - val_loss: 0.4561 - val_accuracy: 0.8438\n",
      "Epoch 19/20\n",
      "1407/1407 [==============================] - 2s 1ms/step - loss: 0.4381 - accuracy: 0.8518 - val_loss: 0.4441 - val_accuracy: 0.8481\n",
      "Epoch 20/20\n",
      "1407/1407 [==============================] - 2s 1ms/step - loss: 0.4359 - accuracy: 0.8522 - val_loss: 0.4475 - val_accuracy: 0.8452\n"
     ]
    }
   ],
   "source": [
    "# Train\n",
    "train = model.fit(x_train, y_train,\n",
    "                   epochs=20, \n",
    "                  validation_data=(x_valid, y_valid))"
   ]
  },
  {
   "cell_type": "code",
   "execution_count": 40,
   "metadata": {},
   "outputs": [
    {
     "data": {
      "image/png": "[encoded data removed]",
      "text/plain": [
       "<Figure size 640x480 with 1 Axes>"
      ]
     },
     "metadata": {},
     "output_type": "display_data"
    }
   ],
   "source": [
    "pd.DataFrame(train.history).plot() \n",
    "plt.grid(True) \n",
    "plt. show()"
   ]
  },
  {
   "cell_type": "markdown",
   "metadata": {},
   "source": [
    "## step4 : model evaluate / predict"
   ]
  },
  {
   "cell_type": "code",
   "execution_count": 41,
   "metadata": {},
   "outputs": [
    {
     "name": "stdout",
     "output_type": "stream",
     "text": [
      "313/313 [==============================] - 0s 1ms/step - loss: 0.4781 - accuracy: 0.8317\n"
     ]
    },
    {
     "data": {
      "text/plain": [
       "[0.47813618183135986, 0.8317000269889832]"
      ]
     },
     "execution_count": 41,
     "metadata": {},
     "output_type": "execute_result"
    }
   ],
   "source": [
    "# Evaluate\n",
    "model.evaluate(x_test, y_test)"
   ]
  },
  {
   "cell_type": "code",
   "execution_count": 42,
   "metadata": {},
   "outputs": [
    {
     "name": "stdout",
     "output_type": "stream",
     "text": [
      "313/313 [==============================] - 0s 1ms/step\n"
     ]
    },
    {
     "data": {
      "text/plain": [
       "array([[0.  , 0.  , 0.  , 0.  , 0.  , 0.13, 0.  , 0.2 , 0.01, 0.65],\n",
       "       [0.  , 0.  , 0.89, 0.  , 0.01, 0.  , 0.1 , 0.  , 0.  , 0.  ],\n",
       "       [0.  , 1.  , 0.  , 0.  , 0.  , 0.  , 0.  , 0.  , 0.  , 0.  ]],\n",
       "      dtype=float32)"
      ]
     },
     "execution_count": 42,
     "metadata": {},
     "output_type": "execute_result"
    }
   ],
   "source": [
    "# Predict\n",
    "y_proba = model.predict(x_test)\n",
    "y_proba[:3].round (2)"
   ]
  },
  {
   "cell_type": "code",
   "execution_count": 43,
   "metadata": {},
   "outputs": [
    {
     "data": {
      "text/plain": [
       "array([9, 2, 1], dtype=int64)"
      ]
     },
     "execution_count": 43,
     "metadata": {},
     "output_type": "execute_result"
    }
   ],
   "source": [
    "y_pred = np.argmax(y_proba, axis=1)   #找機率最高的index\n",
    "y_pred[:3]# 預測結果"
   ]
  },
  {
   "cell_type": "code",
   "execution_count": 44,
   "metadata": {},
   "outputs": [
    {
     "data": {
      "text/plain": [
       "array([9, 2, 1], dtype=uint8)"
      ]
     },
     "execution_count": 44,
     "metadata": {},
     "output_type": "execute_result"
    }
   ],
   "source": [
    "y_test[:3]"
   ]
  },
  {
   "cell_type": "code",
   "execution_count": 45,
   "metadata": {},
   "outputs": [
    {
     "name": "stdout",
     "output_type": "stream",
     "text": [
      "[[758   5  11  57   6   0 143   0  20   0]\n",
      " [  1 952   3  30   6   0   6   0   2   0]\n",
      " [ 15   5 669   9 140   1 146   0  15   0]\n",
      " [ 19  13  12 867  25   1  58   0   5   0]\n",
      " [  0   2  83  40 741   1 124   0   9   0]\n",
      " [  1   0   0   2   0 898   0  61   6  32]\n",
      " [113   3 100  38  88   1 623   0  34   0]\n",
      " [  0   0   0   0   0  36   0 929   0  35]\n",
      " [  1   1   3   9   2   3  26   6 949   0]\n",
      " [  0   0   0   0   0  14   1  52   2 931]]\n"
     ]
    }
   ],
   "source": [
    "# Confusion matrix\n",
    "from sklearn.metrics import confusion_matrix\n",
    "\n",
    "print(confusion_matrix(y_test, y_pred))"
   ]
  },
  {
   "cell_type": "code",
   "execution_count": null,
   "metadata": {},
   "outputs": [],
   "source": []
  }
 ],
 "metadata": {
  "kernelspec": {
   "display_name": "base",
   "language": "python",
   "name": "python3"
  },
  "language_info": {
   "codemirror_mode": {
    "name": "ipython",
    "version": 3
   },
   "file_extension": ".py",
   "mimetype": "text/x-python",
   "name": "python",
   "nbconvert_exporter": "python",
   "pygments_lexer": "ipython3",
   "version": "3.9.13"
  }
 },
 "nbformat": 4,
 "nbformat_minor": 2
}
